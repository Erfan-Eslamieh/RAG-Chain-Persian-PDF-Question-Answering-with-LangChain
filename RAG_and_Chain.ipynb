{
  "nbformat": 4,
  "nbformat_minor": 0,
  "metadata": {
    "colab": {
      "provenance": [],
      "gpuType": "T4"
    },
    "kernelspec": {
      "name": "python3",
      "display_name": "Python 3"
    },
    "language_info": {
      "name": "python"
    }
  },
  "cells": [
    {
      "cell_type": "markdown",
      "source": [
        "## **Install Libraries**\n"
      ],
      "metadata": {
        "id": "6ttL_fS2q6Xx"
      }
    },
    {
      "cell_type": "code",
      "source": [
        "!pip install -qU langchain_community langchain\n",
        "!pip install PyMuPDF\n",
        "!pip install -qU langchain_community pypdf\n",
        "!pip install pdfplumber\n",
        "!pip install faiss-cpu\n",
        "!pip install PyPDF2\n",
        "!pip install -qU  langchain-openai langchain_community langchain grandalf"
      ],
      "metadata": {
        "colab": {
          "base_uri": "https://localhost:8080/"
        },
        "id": "NbDiCot5C3OC",
        "outputId": "ed3f4b26-7797-49e8-d429-e6b2e9e5c125"
      },
      "execution_count": null,
      "outputs": [
        {
          "output_type": "stream",
          "name": "stdout",
          "text": [
            "\u001b[2K   \u001b[90m━━━━━━━━━━━━━━━━━━━━━━━━━━━━━━━━━━━━━━━━\u001b[0m \u001b[32m2.5/2.5 MB\u001b[0m \u001b[31m17.0 MB/s\u001b[0m eta \u001b[36m0:00:00\u001b[0m\n",
            "\u001b[2K   \u001b[90m━━━━━━━━━━━━━━━━━━━━━━━━━━━━━━━━━━━━━━━━\u001b[0m \u001b[32m50.9/50.9 kB\u001b[0m \u001b[31m3.1 MB/s\u001b[0m eta \u001b[36m0:00:00\u001b[0m\n",
            "\u001b[?25hCollecting PyMuPDF\n",
            "  Downloading pymupdf-1.26.3-cp39-abi3-manylinux_2_28_x86_64.whl.metadata (3.4 kB)\n",
            "Downloading pymupdf-1.26.3-cp39-abi3-manylinux_2_28_x86_64.whl (24.1 MB)\n",
            "\u001b[2K   \u001b[90m━━━━━━━━━━━━━━━━━━━━━━━━━━━━━━━━━━━━━━━━\u001b[0m \u001b[32m24.1/24.1 MB\u001b[0m \u001b[31m78.0 MB/s\u001b[0m eta \u001b[36m0:00:00\u001b[0m\n",
            "\u001b[?25hInstalling collected packages: PyMuPDF\n",
            "Successfully installed PyMuPDF-1.26.3\n",
            "\u001b[2K   \u001b[90m━━━━━━━━━━━━━━━━━━━━━━━━━━━━━━━━━━━━━━━━\u001b[0m \u001b[32m310.5/310.5 kB\u001b[0m \u001b[31m4.6 MB/s\u001b[0m eta \u001b[36m0:00:00\u001b[0m\n",
            "\u001b[?25hCollecting pdfplumber\n",
            "  Downloading pdfplumber-0.11.7-py3-none-any.whl.metadata (42 kB)\n",
            "\u001b[2K     \u001b[90m━━━━━━━━━━━━━━━━━━━━━━━━━━━━━━━━━━━━━━━━\u001b[0m \u001b[32m42.8/42.8 kB\u001b[0m \u001b[31m2.1 MB/s\u001b[0m eta \u001b[36m0:00:00\u001b[0m\n",
            "\u001b[?25hCollecting pdfminer.six==20250506 (from pdfplumber)\n",
            "  Downloading pdfminer_six-20250506-py3-none-any.whl.metadata (4.2 kB)\n",
            "Requirement already satisfied: Pillow>=9.1 in /usr/local/lib/python3.12/dist-packages (from pdfplumber) (11.3.0)\n",
            "Collecting pypdfium2>=4.18.0 (from pdfplumber)\n",
            "  Downloading pypdfium2-4.30.0-py3-none-manylinux_2_17_x86_64.manylinux2014_x86_64.whl.metadata (48 kB)\n",
            "\u001b[2K     \u001b[90m━━━━━━━━━━━━━━━━━━━━━━━━━━━━━━━━━━━━━━━━\u001b[0m \u001b[32m48.5/48.5 kB\u001b[0m \u001b[31m3.0 MB/s\u001b[0m eta \u001b[36m0:00:00\u001b[0m\n",
            "\u001b[?25hRequirement already satisfied: charset-normalizer>=2.0.0 in /usr/local/lib/python3.12/dist-packages (from pdfminer.six==20250506->pdfplumber) (3.4.3)\n",
            "Requirement already satisfied: cryptography>=36.0.0 in /usr/local/lib/python3.12/dist-packages (from pdfminer.six==20250506->pdfplumber) (43.0.3)\n",
            "Requirement already satisfied: cffi>=1.12 in /usr/local/lib/python3.12/dist-packages (from cryptography>=36.0.0->pdfminer.six==20250506->pdfplumber) (1.17.1)\n",
            "Requirement already satisfied: pycparser in /usr/local/lib/python3.12/dist-packages (from cffi>=1.12->cryptography>=36.0.0->pdfminer.six==20250506->pdfplumber) (2.22)\n",
            "Downloading pdfplumber-0.11.7-py3-none-any.whl (60 kB)\n",
            "\u001b[2K   \u001b[90m━━━━━━━━━━━━━━━━━━━━━━━━━━━━━━━━━━━━━━━━\u001b[0m \u001b[32m60.0/60.0 kB\u001b[0m \u001b[31m4.2 MB/s\u001b[0m eta \u001b[36m0:00:00\u001b[0m\n",
            "\u001b[?25hDownloading pdfminer_six-20250506-py3-none-any.whl (5.6 MB)\n",
            "\u001b[2K   \u001b[90m━━━━━━━━━━━━━━━━━━━━━━━━━━━━━━━━━━━━━━━━\u001b[0m \u001b[32m5.6/5.6 MB\u001b[0m \u001b[31m58.1 MB/s\u001b[0m eta \u001b[36m0:00:00\u001b[0m\n",
            "\u001b[?25hDownloading pypdfium2-4.30.0-py3-none-manylinux_2_17_x86_64.manylinux2014_x86_64.whl (2.8 MB)\n",
            "\u001b[2K   \u001b[90m━━━━━━━━━━━━━━━━━━━━━━━━━━━━━━━━━━━━━━━━\u001b[0m \u001b[32m2.8/2.8 MB\u001b[0m \u001b[31m88.9 MB/s\u001b[0m eta \u001b[36m0:00:00\u001b[0m\n",
            "\u001b[?25hInstalling collected packages: pypdfium2, pdfminer.six, pdfplumber\n",
            "Successfully installed pdfminer.six-20250506 pdfplumber-0.11.7 pypdfium2-4.30.0\n",
            "Collecting faiss-cpu\n",
            "  Downloading faiss_cpu-1.12.0-cp312-cp312-manylinux_2_27_x86_64.manylinux_2_28_x86_64.whl.metadata (5.1 kB)\n",
            "Requirement already satisfied: numpy<3.0,>=1.25.0 in /usr/local/lib/python3.12/dist-packages (from faiss-cpu) (2.0.2)\n",
            "Requirement already satisfied: packaging in /usr/local/lib/python3.12/dist-packages (from faiss-cpu) (25.0)\n",
            "Downloading faiss_cpu-1.12.0-cp312-cp312-manylinux_2_27_x86_64.manylinux_2_28_x86_64.whl (31.4 MB)\n",
            "\u001b[2K   \u001b[90m━━━━━━━━━━━━━━━━━━━━━━━━━━━━━━━━━━━━━━━━\u001b[0m \u001b[32m31.4/31.4 MB\u001b[0m \u001b[31m23.8 MB/s\u001b[0m eta \u001b[36m0:00:00\u001b[0m\n",
            "\u001b[?25hInstalling collected packages: faiss-cpu\n",
            "Successfully installed faiss-cpu-1.12.0\n",
            "Collecting PyPDF2\n",
            "  Downloading pypdf2-3.0.1-py3-none-any.whl.metadata (6.8 kB)\n",
            "Downloading pypdf2-3.0.1-py3-none-any.whl (232 kB)\n",
            "\u001b[2K   \u001b[90m━━━━━━━━━━━━━━━━━━━━━━━━━━━━━━━━━━━━━━━━\u001b[0m \u001b[32m232.6/232.6 kB\u001b[0m \u001b[31m4.6 MB/s\u001b[0m eta \u001b[36m0:00:00\u001b[0m\n",
            "\u001b[?25hInstalling collected packages: PyPDF2\n",
            "Successfully installed PyPDF2-3.0.1\n",
            "\u001b[2K   \u001b[90m━━━━━━━━━━━━━━━━━━━━━━━━━━━━━━━━━━━━━━━━\u001b[0m \u001b[32m74.4/74.4 kB\u001b[0m \u001b[31m1.8 MB/s\u001b[0m eta \u001b[36m0:00:00\u001b[0m\n",
            "\u001b[2K   \u001b[90m━━━━━━━━━━━━━━━━━━━━━━━━━━━━━━━━━━━━━━━━\u001b[0m \u001b[32m41.8/41.8 kB\u001b[0m \u001b[31m2.8 MB/s\u001b[0m eta \u001b[36m0:00:00\u001b[0m\n",
            "\u001b[?25h"
          ]
        }
      ]
    },
    {
      "cell_type": "code",
      "source": [
        "import os\n",
        "os.environ[\"OPENAI_API_KEY\"] = input(\" Enter your OpenAI API key: \")"
      ],
      "metadata": {
        "id": "38Y3trcICRL0"
      },
      "execution_count": null,
      "outputs": []
    },
    {
      "cell_type": "code",
      "source": [
        "import requests\n",
        "\n",
        "folder_path = \"pdf_downloads\"\n",
        "os.makedirs(folder_path, exist_ok=True)\n",
        "\n",
        "pdf_links = [\n",
        "    \"https://cbi.ir/page/29834.aspx\",\n",
        "    \"https://cbi.ir/page/29833.aspx\",\n",
        "    \"https://cbi.ir/page/29832.aspx\",\n",
        "    \"https://cbi.ir/page/29831.aspx\",\n",
        "    \"https://cbi.ir/page/29827.aspx\",\n",
        "    \"https://cbi.ir/page/29825.aspx\",\n",
        "    \"https://cbi.ir/page/29824.aspx\",\n",
        "    \"https://cbi.ir/page/29819.aspx\"\n",
        "]\n",
        "\n",
        "def download_pdf(pdf_url, save_folder):\n",
        "    try:\n",
        "        response = requests.get(pdf_url, timeout=60)\n",
        "        response.raise_for_status()\n",
        "        filename = pdf_url.split(\"/\")[-1] + \".pdf\"\n",
        "        save_path = os.path.join(save_folder, filename)\n",
        "        with open(save_path, \"wb\") as f:\n",
        "            f.write(response.content)\n",
        "        print(f\"دانلود شد: {save_path}\")\n",
        "    except requests.exceptions.RequestException as e:\n",
        "        print(f\"خطا در دانلود {pdf_url}: {e}\")\n",
        "\n",
        "for link in pdf_links:\n",
        "    download_pdf(link, folder_path)\n"
      ],
      "metadata": {
        "colab": {
          "base_uri": "https://localhost:8080/"
        },
        "id": "zDjg804mqUpx",
        "outputId": "c44e67bd-2be6-4a34-f746-3b76b75ebdfc"
      },
      "execution_count": null,
      "outputs": [
        {
          "output_type": "stream",
          "name": "stdout",
          "text": [
            "خطا در دانلود https://cbi.ir/page/29834.aspx: HTTPSConnectionPool(host='cbi.ir', port=443): Max retries exceeded with url: /page/29834.aspx (Caused by ConnectTimeoutError(<urllib3.connection.HTTPSConnection object at 0x7b9e6a70cbf0>, 'Connection to cbi.ir timed out. (connect timeout=60)'))\n",
            "خطا در دانلود https://cbi.ir/page/29833.aspx: HTTPSConnectionPool(host='cbi.ir', port=443): Max retries exceeded with url: /page/29833.aspx (Caused by NameResolutionError(\"<urllib3.connection.HTTPSConnection object at 0x7b9e7859dd60>: Failed to resolve 'cbi.ir' ([Errno -2] Name or service not known)\"))\n",
            "خطا در دانلود https://cbi.ir/page/29832.aspx: HTTPSConnectionPool(host='cbi.ir', port=443): Max retries exceeded with url: /page/29832.aspx (Caused by NameResolutionError(\"<urllib3.connection.HTTPSConnection object at 0x7b9e7859df70>: Failed to resolve 'cbi.ir' ([Errno -2] Name or service not known)\"))\n",
            "خطا در دانلود https://cbi.ir/page/29831.aspx: HTTPSConnectionPool(host='cbi.ir', port=443): Max retries exceeded with url: /page/29831.aspx (Caused by NameResolutionError(\"<urllib3.connection.HTTPSConnection object at 0x7b9e7859e7e0>: Failed to resolve 'cbi.ir' ([Errno -2] Name or service not known)\"))\n",
            "خطا در دانلود https://cbi.ir/page/29827.aspx: HTTPSConnectionPool(host='cbi.ir', port=443): Max retries exceeded with url: /page/29827.aspx (Caused by NameResolutionError(\"<urllib3.connection.HTTPSConnection object at 0x7b9e7859f0b0>: Failed to resolve 'cbi.ir' ([Errno -2] Name or service not known)\"))\n",
            "خطا در دانلود https://cbi.ir/page/29825.aspx: HTTPSConnectionPool(host='cbi.ir', port=443): Max retries exceeded with url: /page/29825.aspx (Caused by ConnectTimeoutError(<urllib3.connection.HTTPSConnection object at 0x7b9e7859f980>, 'Connection to cbi.ir timed out. (connect timeout=60)'))\n",
            "خطا در دانلود https://cbi.ir/page/29824.aspx: HTTPSConnectionPool(host='cbi.ir', port=443): Max retries exceeded with url: /page/29824.aspx (Caused by ConnectTimeoutError(<urllib3.connection.HTTPSConnection object at 0x7b9e7859fb00>, 'Connection to cbi.ir timed out. (connect timeout=60)'))\n",
            "خطا در دانلود https://cbi.ir/page/29819.aspx: HTTPSConnectionPool(host='cbi.ir', port=443): Max retries exceeded with url: /page/29819.aspx (Caused by ConnectTimeoutError(<urllib3.connection.HTTPSConnection object at 0x7b9e7859e600>, 'Connection to cbi.ir timed out. (connect timeout=60)'))\n"
          ]
        }
      ]
    },
    {
      "cell_type": "code",
      "source": [
        "import re\n",
        "from pypdf import PdfReader\n",
        "from langchain_community.document_loaders import PyPDFLoader"
      ],
      "metadata": {
        "id": "g9Y56GxkP0MW"
      },
      "execution_count": null,
      "outputs": []
    },
    {
      "cell_type": "markdown",
      "source": [
        "# **Part 1 : Data loading**"
      ],
      "metadata": {
        "id": "bgVsq0muWTUA"
      }
    },
    {
      "cell_type": "markdown",
      "source": [
        "###**PDF 1**"
      ],
      "metadata": {
        "id": "oF-7NILeMjfi"
      }
    },
    {
      "cell_type": "code",
      "source": [
        "path_to_pdf = (\"/content/pdf_downloads/مشاغل خانگی.pdf\")"
      ],
      "metadata": {
        "id": "WuRCy96AK0Hy"
      },
      "execution_count": null,
      "outputs": []
    },
    {
      "cell_type": "code",
      "source": [
        "loader = PyPDFLoader(\n",
        "    path_to_pdf,\n",
        ")\n",
        "docs = loader.load()\n"
      ],
      "metadata": {
        "id": "AxP_3YtCH_1O"
      },
      "execution_count": null,
      "outputs": []
    },
    {
      "cell_type": "code",
      "source": [
        "docs[0]"
      ],
      "metadata": {
        "id": "dR11DAYnXt9a",
        "colab": {
          "base_uri": "https://localhost:8080/"
        },
        "outputId": "79dcf272-1cd4-4ca9-fdde-0d684424d48a"
      },
      "execution_count": null,
      "outputs": [
        {
          "output_type": "execute_result",
          "data": {
            "text/plain": [
              "Document(metadata={'producer': 'Microsoft® Word LTSC', 'creator': 'Microsoft® Word LTSC', 'creationdate': '2024-05-14T12:29:00+03:30', 'moddate': '2024-05-14T12:29:41+03:30', 'author': 'Pishgam Rayaneh', 'source': '/content/pdf_downloads/مشاغل خانگی.pdf', 'total_pages': 2, 'page': 0, 'page_label': '1'}, page_content='تهران– بلوار میرداماد – پلاک  198 تلفن29951   کدپستی33111-15496 فاکس:66735674  سایت اینترنتیwww.cbi.ir \\n \\n \\n \\n \\n \\nمدیران عامل محترم بانک های  ملي ایران،  توسعه تعاون ،  صادرات ایران ،  تجارت،  ملت ،  سپه،                 \\nرفاه كارگران،  قرض الحسنه مهر ایران،  قرض الحسنه رسالت و  شركت دولتي پست بانک  \\n \\nبا سلام و احترام؛ \\nبا عنايت به مفاد ماااد(  18) دسااتالامل ا ااراياان نااامان ساااماماين و ح اياات ان م ااا ا  ااام ن دل\\n صاص تليين و تانيع سه يه تسهيلات نرضامحسنه م ا ا  ااام ن تاساان بامااي مرهااه آ سااه يه  ن \\nبامي اهت اعطا  تسهيلات ماصاف ان محااا منااابع   اماااان و اااال  نرضامحساانه دل سااامجال  طباا  \\nااول  ياست السال منشاد.   \\nاضافه منم اياآ تانيع استامن تسهيلات ماصاف ميه متلانباً ان سا  ونالت تلاونآ هال و لفااا( اات اااعن \\nالسال  اايا شا. \\n ااي  نا استآ دستالفرمائيا ض ن اناام لانم بر سه يه ابلا نآ ع لکرد تسهيلات ماصاف لا دل  \\nمقاطع سه مايه به اين بام ي السال م اينا./6401181 \\n \\n \\n \\n 29598/03 \\n 11/02/1403 \\n دارد \\n \\nاداره اعتبارات \\nمهدی صحابي                                                   سارا جلالي فراهاني  \\n2816                                                          10-7281')"
            ]
          },
          "metadata": {},
          "execution_count": 89
        }
      ]
    },
    {
      "cell_type": "code",
      "source": [
        "def clean_persian_text(text):\n",
        "    text = re.sub(r'\\s+', ' ', text)\n",
        "    text = text.replace(\" هه\", \"ه\")\n",
        "    text = text.replace(\" ا \", \"ا \")\n",
        "    text = re.sub(r'\\s+([.,؛:])', r'\\1', text)\n",
        "    return text.strip()\n",
        "\n",
        "path_to_pdf = \"/content/pdf_downloads/مشاغل خانگی.pdf\"\n",
        "reader = PdfReader(path_to_pdf)\n",
        "\n",
        "all_text_1 = \"\"\n",
        "for page in reader.pages:\n",
        "    raw_text = page.extract_text()\n",
        "    all_text += clean_persian_text(raw_text) + \"\\n\\n\"\n",
        "\n",
        "print(all_text_1)\n"
      ],
      "metadata": {
        "colab": {
          "base_uri": "https://localhost:8080/"
        },
        "id": "OyN1o6htPnIO",
        "outputId": "3c91c4f0-02b7-4633-e92f-fc9a6f06bacc"
      },
      "execution_count": null,
      "outputs": [
        {
          "output_type": "stream",
          "name": "stdout",
          "text": [
            "\n"
          ]
        }
      ]
    },
    {
      "cell_type": "markdown",
      "source": [
        "###**PDF 2**"
      ],
      "metadata": {
        "id": "p1tD-P14M0Y-"
      }
    },
    {
      "cell_type": "code",
      "source": [
        "path_to_pdf2 = (\"/content/pdf_downloads/فرزند اوری.pdf\")"
      ],
      "metadata": {
        "id": "YjhQ5bR0Myho"
      },
      "execution_count": null,
      "outputs": []
    },
    {
      "cell_type": "code",
      "source": [
        "loader = PyPDFLoader(\n",
        "    path_to_pdf2,\n",
        ")\n",
        "docs = loader.load()\n"
      ],
      "metadata": {
        "id": "I0_bnkMvMyhp"
      },
      "execution_count": null,
      "outputs": []
    },
    {
      "cell_type": "code",
      "source": [
        "docs[0]"
      ],
      "metadata": {
        "colab": {
          "base_uri": "https://localhost:8080/"
        },
        "id": "8qpg-CSsO4pL",
        "outputId": "9ed7eb65-027b-41cf-8577-8b80869d7270"
      },
      "execution_count": null,
      "outputs": [
        {
          "output_type": "execute_result",
          "data": {
            "text/plain": [
              "Document(metadata={'producer': 'Microsoft® Word LTSC', 'creator': 'Microsoft® Word LTSC', 'creationdate': '2024-05-14T10:31:13+03:30', 'author': 'Pishgam Rayaneh', 'moddate': '2024-05-14T10:31:13+03:30', 'source': '/content/pdf_downloads/فرزند اوری.pdf', 'total_pages': 2, 'page': 0, 'page_label': '1'}, page_content='تهران– بلوار میرداماد – پلاک  198 تلفن29951   کدپستی33111-15496 فاکس:66735674  سایت اینترنتیwww.cbi.ir \\n \\n \\n \\n \\nمديران عامل مح تر م بانك های ملي ا يران، بانك سپه، تجارت، رفاه كارگران، صادرات ايران،كشاورزی،  \\nملت، مسكن، توسعه تعاون، صنعت و معدن، توسعه صادرات ايران، آينده، اقتصاد نوين، ايران زمين، پارسيان،  \\nپاسارگاد، خاورميانه، دی، سامان، سينا، شهر، كارآفرين، گردشگری، سرمايه، مشترك ايران   -  ونزوئلا،      \\nشركت دولتي پست بانك، موسسه اعتباری غيربانكي ملل، قرض الحسنه رسالت و قرض الحسنه مهر ايران  \\n \\nباسلام و احترام؛ \\nبه آگاهی می رساند براساس بند (ث) تبصره (13) قانون بودجه سال1403 کل کشور مقرر شده است \\n\"بانک مرکزی جمهوری اسلامی ایران مکلف است مطابق با قانون حمایت از خانواده و  جوانی جمعیت و قوانین مربوط \\nبه ایثارگران، قانون حمایت از حقوق معلولان مصوب  20/12/1396، قانون جهش تولید دانشبنیان، قانون ساماندهی و \\nحمایت از مشاغل خانگی و تسهیلات موضوع ماده (۷۷)  قانون الحاق برخی مواد بههه تنمههیش باشههی از مقههررات مههالی \\nدولت (2  )و ستاد مردمی رسیدگی به امور دیه و کمک به زندانیان نیازمند، از محل سههدرده های قرضالحسههنه ا ههش از \\nجاری و پسانداز شبکه بانکی پس از کسر سدرده قههانونی حههداقل  2  میلیههون میلیههارد ریههال بههه قرض الحسههنه ازدوا ، \\nفرزندآوری و ودیعه یا خرید یا ساخت مسکن و دیگر موارد ذکرشده در قوانین فوق اختصاص داده و از طریق بانکهههای \\n امل (به تشایص هیئت  الی بانک مرکزی جمهوری اسلامی ایران) پرداخت گردد و در صورت  ههدم کیایههت منههاب ، \\nاولویتبندی و ترتیب ا طای تسهیلات به موارد مذکور در این بند به ترتیههب شههامل؛ تسهههیلات قرض الحسههنه ازدوا ، \\nتسهیلات قرضالحسنه فرزندآوری، تسهیلات قرضالحسنه ودیعه یا خرید یا ساخت مسکن به شرح زیر اقدام نماید: \\n \"جزء (2)  -تسهيلات قرض الحسنه فرزندآوری (موضوع ماده (10  )قانون حمایت از خانواده و جوانی جمعیت \\n برای فرزندانی که از  1/1/1400  به بعد به دنیا آمدهاند با ر ایت شروط مندر  در قانون حمایت از خانواده و جوانی  \\nجمعیت تسهیلات قرضالحسنه فرزندآوری به شرح زیر پرداخت میشود:  \\n1-2- به ازای فرزند اول چهارصد میلیون400.000.000 )ریال \\n2-2- به ازای فرزند دوم هشتصد میلیون800.000.000 )ریال \\n2-3- به ازای فرزند سوم یک میلیارد و دویست میلیون1.200.000.000 )ریال \\n4-2- به ازای فرزند چهارم یک میلیارد و پانصد میلیون1.500.000.000 )ریال \\n5-2- به ازای فرزند پنجش و بیشتر دو میلیارد2.000.000.000)ریال \\nجزء(6)-  مسؤولیت حسن اجرای این بند بر  هده بانک مرکزی جمهوری اسلامی ایران، مؤسسات ا تباری و تمامی\\nمدیران و کارکنان ذیربط میباشد.  دم اجرای هریک از بندهای این تبصره (مشتمل بر تأخیر در پرداخت این  \\nتسهیلات یا دریافت ضمانت فراتر از حدود این قانون) تالف محسوب شده  و در مراج  ذیصلاح قابل پیگیری است.  \\nجزء(8  )-پس از ا تبارسنجی متقاضیان و در صورت  دم تکافوی ا تبار آنها، به منمور تأمین رکههن ضههامن، مؤسسههات \\nا تباری موظیند با توثیق حساب یارانه یا سهام  دالت متقاضیان یهها بسههتگان درجههه اول از طبقههه اول آنههها یهها سههایر \\nداراییهای مالی وی یا تنها دریافت یک فقره سیته و یک نیر ضامن نسبت به پرداخت تسهیلات اقدام نمایند. \\n 41/03 \\n 06/01/1403 \\n دارد')"
            ]
          },
          "metadata": {},
          "execution_count": 93
        }
      ]
    },
    {
      "cell_type": "code",
      "source": [
        "def clean_persian_text(text):\n",
        "    text = re.sub(r'\\s+', ' ', text)\n",
        "    text = text.replace(\" هه\", \"ه\")\n",
        "    text = text.replace(\" ا \", \"ا \")\n",
        "    text = re.sub(r'\\s+([.,؛:])', r'\\1', text)\n",
        "    return text.strip()\n",
        "\n",
        "path_to_pdf2 = \"/content/pdf_downloads/فرزند اوری.pdf\"\n",
        "reader = PdfReader(path_to_pdf2)\n",
        "\n",
        "all_text_2 = \"\"\n",
        "for page in reader.pages:\n",
        "    raw_text = page.extract_text()\n",
        "    all_text += clean_persian_text(raw_text) + \"\\n\\n\"\n",
        "\n",
        "print(all_text_2)\n"
      ],
      "metadata": {
        "colab": {
          "base_uri": "https://localhost:8080/"
        },
        "id": "4CyVgBswPim1",
        "outputId": "88722e54-26b0-4e34-8fd3-e578aa89f143"
      },
      "execution_count": null,
      "outputs": [
        {
          "output_type": "stream",
          "name": "stdout",
          "text": [
            "\n"
          ]
        }
      ]
    },
    {
      "cell_type": "markdown",
      "source": [
        "###**PDF 3**"
      ],
      "metadata": {
        "id": "B_Mj6UqbRNgm"
      }
    },
    {
      "cell_type": "code",
      "source": [
        "path_to_pdf3 = (\"/content/pdf_downloads/سهمیه مسکن محرومین.pdf\")"
      ],
      "metadata": {
        "id": "RxwkGBakP9LN"
      },
      "execution_count": null,
      "outputs": []
    },
    {
      "cell_type": "code",
      "source": [
        "loader = PyPDFLoader(\n",
        "    path_to_pdf3,\n",
        ")\n",
        "docs3 = loader.load()\n"
      ],
      "metadata": {
        "id": "0C62Bs_ZP9LO"
      },
      "execution_count": null,
      "outputs": []
    },
    {
      "cell_type": "code",
      "source": [
        "docs3[0]"
      ],
      "metadata": {
        "colab": {
          "base_uri": "https://localhost:8080/"
        },
        "outputId": "5f2e9197-4d57-412f-e849-4d5817edd3f8",
        "id": "K71y-cmaP9LO"
      },
      "execution_count": null,
      "outputs": [
        {
          "output_type": "execute_result",
          "data": {
            "text/plain": [
              "Document(metadata={'producer': 'Microsoft® Word LTSC', 'creator': 'Microsoft® Word LTSC', 'creationdate': '2024-05-14T12:09:17+03:30', 'moddate': '2024-05-14T12:10:03+03:30', 'author': 'Pishgam Rayaneh', 'source': '/content/pdf_downloads/سهمیه مسکن محرومین.pdf', 'total_pages': 2, 'page': 0, 'page_label': '1'}, page_content='تهران– بلوار میرداماد – پلاک  198 تلفن29951   کدپستی33111-15496 فاکس:66735674  سایت اینترنتیwww.cbi.ir \\n \\n \\n \\n \\n \\nمدیران عامل محترم بانک هایتجارت، رفاه كارگران، مسكن، ملت، صادرات ایران، سپه،  ملي ایران، پارسيان،  كشاورزی  \\n \\nبا سلام و احترام؛  \\nپيرو نامه شماره  727/03  مورخ06/01/1403  پيرامون ابلاغ تسهيلات مسكن محرومين موضوع جزء4) \\nبند (ث) تبصره13  قانون بودجه سالجاری، به پيوست جدول سهميه آن بانک برای پرداختت تستهيلات بنتد\\nقانوني مذكور  با سقف فردی مبلغ  4 ميلياردریال و تایيد سامانه رفاه ایرانيان (مبني بر قرارداشتن این افراد در \\nسه دهک اول در آمدی) جهت استحضار ارسال ميشود. \\nلازم به ذكر اس ت، با توجه به بند (ث) تبصره یادشده پيرامون ساز و كار نظارت بند مذكور، آن بانک  \\nموظف است نسبت به اعلام عملكرد بند مذكور به صورت  فصلی (هرسه ماه یکبار)  جهت ارسال به مراجع  \\nمربوطه اقدام نماید. \\nبا عنایت به مراتب فوق، خواهشمند است ترتيبي اتخاذ شود تا  حداکثر ظرف مدت یک هفته  از تاریخ  \\nوصول این نامه، موضوع به واحدهای اجرایي ذی ربط در سراسر كشور ابلاغ و یک نسخه از ابلاغيه مربوطه به  \\nاین بانک ارسال شود. /6401654 \\n \\n \\n \\n \\n \\n \\n 29578/03 \\n 11/02/1403 \\n دارد \\n \\nاداره اعتبارات \\nمهدی صحابی                                                   سارا جلالی فراهانی  \\n2816                                                          10-7281')"
            ]
          },
          "metadata": {},
          "execution_count": 97
        }
      ]
    },
    {
      "cell_type": "code",
      "source": [
        "def clean_persian_text(text):\n",
        "    text = re.sub(r'\\s+', ' ', text)\n",
        "    text = text.replace(\" هه\", \"ه\")\n",
        "    text = text.replace(\" ا \", \"ا \")\n",
        "    text = re.sub(r'\\s+([.,؛:])', r'\\1', text)\n",
        "    return text.strip()\n",
        "\n",
        "path_to_pdf3 = \"/content/pdf_downloads/سهمیه مسکن محرومین.pdf\"\n",
        "reader = PdfReader(path_to_pdf3)\n",
        "\n",
        "all_text_3 = \"\"\n",
        "for page in reader.pages:\n",
        "    raw_text = page.extract_text()\n",
        "    all_text += clean_persian_text(raw_text) + \"\\n\\n\"\n",
        "\n",
        "print(all_text_3)\n"
      ],
      "metadata": {
        "colab": {
          "base_uri": "https://localhost:8080/"
        },
        "outputId": "d2eac275-3bb1-4bf9-acfe-1ed7a79d9f36",
        "id": "cll7UexmP9LO"
      },
      "execution_count": null,
      "outputs": [
        {
          "output_type": "stream",
          "name": "stdout",
          "text": [
            "\n"
          ]
        }
      ]
    },
    {
      "cell_type": "markdown",
      "source": [
        "### **PDF 4**"
      ],
      "metadata": {
        "id": "d_oqwcIxP-Ud"
      }
    },
    {
      "cell_type": "code",
      "source": [
        "path_to_pdf4 = (\"/content/pdf_downloads/سقف کلی و فردی تسهیلات قرض¬الحسنه ودیعه یا ساخت یا خرید مسکن فرزند.pdf\")"
      ],
      "metadata": {
        "id": "IuHov98qRTZ2"
      },
      "execution_count": null,
      "outputs": []
    },
    {
      "cell_type": "code",
      "source": [
        "loader = PyPDFLoader(\n",
        "    path_to_pdf4,\n",
        ")\n",
        "docs4 = loader.load()\n"
      ],
      "metadata": {
        "id": "aCHmqZC_RTZ2"
      },
      "execution_count": null,
      "outputs": []
    },
    {
      "cell_type": "code",
      "source": [
        "docs4[0]"
      ],
      "metadata": {
        "colab": {
          "base_uri": "https://localhost:8080/"
        },
        "outputId": "88d6c834-5a2f-4431-9b77-c084d65688f4",
        "id": "uORg24x4RTZ2"
      },
      "execution_count": null,
      "outputs": [
        {
          "output_type": "execute_result",
          "data": {
            "text/plain": [
              "Document(metadata={'producer': 'Microsoft® Word LTSC', 'creator': 'Microsoft® Word LTSC', 'creationdate': '2024-05-14T12:02:42+03:30', 'moddate': '2024-05-14T12:03:24+03:30', 'author': 'Pishgam Rayaneh', 'source': '/content/pdf_downloads/سقف کلی و فردی تسهیلات قرض¬الحسنه ودیعه یا ساخت یا خرید مسکن فرزند.pdf', 'total_pages': 5, 'page': 0, 'page_label': '1'}, page_content='تهران– بلوار میرداماد – پلاک  198 تلفن29951   کدپستی33111-15496 فاکس:66735674  سایت اینترنتیwww.cbi.ir \\n \\n \\n \\n \\nمدیران عامل محترم بانک هایملت، صادرات ایران،  تجارت، مسكن  و شركت دولتي پست بانک  \\n \\nباسلام و احترام؛ \\nپیرو نامه شماره  260721/00 مورخ08/09/1400 درخصوص ابلاغ بنددایاق نددانوا حمازددا اا خددانواده و  ددوان \\n معیا و در راستاق ا راق  تبصره های (۱) و (۲) ذیل ماده (69) قانون مذكور، سدد  ف کلدد  و دددردق ل دد یلا ت \\nنرضالح نه ودزعه زا  ساخا زا  خرزا  م کن  درانا با احت اب نددرخ لددورم سددا نه  لعیددی ن و بدده اناددمام دسددتورالعم  \\nمربوطه  و  س میه آا بانک   ا اعطاق ل  یلات موصوف (به شرح  اول پیوسا) ارسال م  شود. مات بااپرداخددا  \\nل  یلات  حداكثر  0سال  و  با  در نظر گردتن شرازط  خانوادههای فاقد مسكن،  با س ف یاق دردق  بدده شددرح  زدد  \\nلعیین  م  شود:  \\nالف- خانواریاز  که اا سال  1399 به بعا صاحب دو درانا شاه زا م  شونا،  یر خانواده به مبلغ 2.700 میلیوا رزال \\nب-  خانواریاز  که اا سال  1399 به بعا صاحبزک  درانا شاه زا م  شونا، یر خانواده به مبلغ 2.200 میلیوا رزال   \\nپ-  خانواریاق دو نفره (اوج و او ه) به یر خانواده مبلغ 1.400 میلیوا رزال. \\n        ام به  کر اسا استعلامیاق  ام   ا ب رهمناق مت اضیاا اا ل  یلات م کن  مبن  بر  عام اخذ ل دد یلات \\nم کن اا بانک یا و مؤس ات اعتبارق  ح ب بنایاق  ۵  و 6 دستورالعم  مربوطه صورت پذزرد \\nبانکها مکلف اند پس از اعتبارسنجی متقاضیان تسهیلات مذکور و در صورت عدم  تکافوی اعتبار آنها، به منظور تأمین رکن \\nضامن، با توثیق حساب یارانه یا سهام عدالت متقاضیان یا بستگان درجه اول از طبقه اول آنها یا سایر داراییهای مالی وی یا \\nتنها دریافت یک فقره سفته و یک نفر ضامن نسبت به پرداخت تسهیلات اقدام نمایند.  \\n    یمچنین  ام به  کر اسا با لو ه به لزوم بررس  وضعیا پرداخا ل  یلات زاد شاه، آا بانک م بازا ن با  \\nبه ارسال  گزارش عملكرد در مقاطع سه ماهه به این بانک   اناام نمازا.  یمچنین  آا  بانک  م بازا  فهرست  \\nشعبي   را که در سطح کشور ن با به پرداخا ل  یلات مذکور اناام م  نمازنا، در لارنماق خود  به  صورت مشخص  \\nمنتشر و ن خهاق   اا آارا براق ازن بانک ارسال نمازا.  با عنازا به مرالب دوق، خوایشمنا اسا دستور درمازنا  \\nلرلیب  الخا  شود لا حااکثر ظرف مات زک یفته اا لارزخ وصول ازن نامه، موضوع به واحایاق ا راز   زربط در  \\nسراسر کشور ابلاغ و زک ن خه اا ابلاغیه مربوطه به ازن بانک ارسال شود./6390368 \\n \\n \\n \\n \\n \\n 16060/03 \\n 28/01/1403 \\n دارد \\n \\nاداره اعتبارات \\nمهدی صحابي                                                   سارا جلالي فراهاني  \\n6                                                          ۱0-7۱')"
            ]
          },
          "metadata": {},
          "execution_count": 101
        }
      ]
    },
    {
      "cell_type": "code",
      "source": [
        "def clean_persian_text(text):\n",
        "    text = re.sub(r'\\s+', ' ', text)\n",
        "    text = text.replace(\" هه\", \"ه\")\n",
        "    text = text.replace(\" ا \", \"ا \")\n",
        "    text = re.sub(r'\\s+([.,؛:])', r'\\1', text)\n",
        "    return text.strip()\n",
        "\n",
        "path_to_pdf4 = \"/content/pdf_downloads/سقف کلی و فردی تسهیلات قرض¬الحسنه ودیعه یا ساخت یا خرید مسکن فرزند.pdf\"\n",
        "reader = PdfReader(path_to_pdf4)\n",
        "\n",
        "all_text_4 = \"\"\n",
        "for page in reader.pages:\n",
        "    raw_text = page.extract_text()\n",
        "    all_text += clean_persian_text(raw_text) + \"\\n\\n\"\n",
        "\n",
        "print(all_text_4)\n"
      ],
      "metadata": {
        "colab": {
          "base_uri": "https://localhost:8080/"
        },
        "outputId": "edb99d39-35c7-405f-9577-c811876bbfb5",
        "id": "BuMCoWUORTZ3"
      },
      "execution_count": null,
      "outputs": [
        {
          "output_type": "stream",
          "name": "stdout",
          "text": [
            "\n"
          ]
        }
      ]
    },
    {
      "cell_type": "markdown",
      "source": [
        "### **PDF 5**"
      ],
      "metadata": {
        "id": "nFTqD_SaTJWj"
      }
    },
    {
      "cell_type": "code",
      "source": [
        "path_to_pdf5 = (\"/content/pdf_downloads/دستورالعمل مسکن بند ث.pdf\")"
      ],
      "metadata": {
        "id": "N5bPXh2uTJWj"
      },
      "execution_count": null,
      "outputs": []
    },
    {
      "cell_type": "code",
      "source": [
        "loader = PyPDFLoader(\n",
        "    path_to_pdf5,\n",
        ")\n",
        "docs5 = loader.load()\n"
      ],
      "metadata": {
        "id": "g9WUbkITTJWj"
      },
      "execution_count": null,
      "outputs": []
    },
    {
      "cell_type": "code",
      "source": [
        "docs5[0]"
      ],
      "metadata": {
        "colab": {
          "base_uri": "https://localhost:8080/"
        },
        "outputId": "af962519-ca7d-4289-c0a3-088c9b87b59b",
        "id": "Gomli7bYTJWj"
      },
      "execution_count": null,
      "outputs": [
        {
          "output_type": "execute_result",
          "data": {
            "text/plain": [
              "Document(metadata={'producer': 'Microsoft® Word LTSC', 'creator': 'Microsoft® Word LTSC', 'creationdate': '2024-05-14T11:52:31+03:30', 'moddate': '2024-05-14T11:53:43+03:30', 'author': 'Pishgam Rayaneh', 'source': '/content/pdf_downloads/دستورالعمل مسکن بند ث.pdf', 'total_pages': 6, 'page': 0, 'page_label': '1'}, page_content='تهران– بلوار میرداماد – پلاک  198 تلفن29951   کدپستی33111-15496 فاکس:66735674  سایت اینترنتیwww.cbi.ir \\n \\n \\n \\n \\nمدیران عامل محترم بانک های  ملت ،  صادرات ایران ،  تجارت،  مسكن و  شركت دولتي پست بانک  \\n \\nبا سلام و احترام؛  \\nپیرو نام ه شماره  669/03  مورخ06/01/1403  پیرامون تسهیلات قرض الحسنه ودیعه،  خرید یا ساخت \\nمسکن  برای خانواده های فاقد مسکن که از ابتدای سال  1399  به بعد صاحب فرزند سوم یا بیشتر می شوند \\nموضوع جزء (3  )بند (ثتبصره (13) قانون بودجه سال1403  كل كشور،  به پیوست دستورالعمل  اجرایی ،  \\nبه همراه جدول سهمیه و توزیع استانی آن بانک ارسال میشود.  \\nلازم به ذکر است، حسب  فراز  پایانی  بند (ث ) تبصره مذکور مقرر شده است: بانک مرکزی مکلف است  به  \\nصورت  هر سه ماه یكبار  گزارش عملكرد  اجزاء  بندث»\\nنماید. بر این اساس،  آن بانک موظف است نسبت به اعلام عملكرد بند مذكور  به صورت  سه ماهه \\n(پایان هر  فصل)  جهت ارسال به مراجع مربوطه اقدام نماید.  همچنین  آن بانک  میباید  فهرست  شعبی  را  که  \\nدر سطح کشور نسبت  به پرداخت تسهیلات مذکور   اقدام می  نمایند، در تارنمای خود   به طور مشخص   جهت  \\nاطلاع متقاضیان  منتشر و نسخهای  از آنرا برای این بانک ارسال نماید.  \\nبا عنایت به مراتب فوق، خواهشمند است ترتیبی اتخاذ شود تا حداکثر ظرف مدت یک هفته از تاریخ  \\nوصول این نامه، موضوع به  قید فوریت   به واحدهای اجرایی ذیربط در سراسر کشور ابلاغ و یک نسخه از  \\nابلاغیه مربوطه به این بانک ارسال شود./6390332 \\n \\n \\n \\n \\n \\n 16059/03 \\n 28/01/1403 \\n دارد \\n \\nاداره اعتبارات \\nمهدی صحابي                                                    سارا جلالي فراهاني  \\n2816                                                          10-7281')"
            ]
          },
          "metadata": {},
          "execution_count": 105
        }
      ]
    },
    {
      "cell_type": "code",
      "source": [
        "def clean_persian_text(text):\n",
        "    text = re.sub(r'\\s+', ' ', text)\n",
        "    text = text.replace(\" هه\", \"ه\")\n",
        "    text = text.replace(\" ا \", \"ا \")\n",
        "    text = re.sub(r'\\s+([.,؛:])', r'\\1', text)\n",
        "    return text.strip()\n",
        "\n",
        "path_to_pdf5 = \"/content/pdf_downloads/دستورالعمل مسکن بند ث.pdf\"\n",
        "reader = PdfReader(path_to_pdf5)\n",
        "\n",
        "all_text_5 = \"\"\n",
        "for page in reader.pages:\n",
        "    raw_text = page.extract_text()\n",
        "    all_text += clean_persian_text(raw_text) + \"\\n\\n\"\n",
        "\n",
        "print(all_text_5)\n"
      ],
      "metadata": {
        "colab": {
          "base_uri": "https://localhost:8080/"
        },
        "outputId": "6e79d192-fcf5-47a6-9919-fcf02e322457",
        "id": "Iw-Vkx7CTJWk"
      },
      "execution_count": null,
      "outputs": [
        {
          "output_type": "stream",
          "name": "stdout",
          "text": [
            "\n"
          ]
        }
      ]
    },
    {
      "cell_type": "markdown",
      "source": [
        "### **PDF 6**"
      ],
      "metadata": {
        "id": "sr0zYIUqT13x"
      }
    },
    {
      "cell_type": "code",
      "source": [
        "path_to_pdf6 = (\"/content/pdf_downloads/جز 4 بند ب تبصره 2.pdf\")"
      ],
      "metadata": {
        "id": "y9qvx-MTT13y"
      },
      "execution_count": null,
      "outputs": []
    },
    {
      "cell_type": "code",
      "source": [
        "loader = PyPDFLoader(\n",
        "    path_to_pdf6,\n",
        ")\n",
        "docs6 = loader.load()\n"
      ],
      "metadata": {
        "id": "RfSZoyhoT13y"
      },
      "execution_count": null,
      "outputs": []
    },
    {
      "cell_type": "code",
      "source": [
        "docs6[0]"
      ],
      "metadata": {
        "colab": {
          "base_uri": "https://localhost:8080/"
        },
        "outputId": "3859a462-5780-44f7-d17e-22a939af9aa1",
        "id": "ZT5B192iT13y"
      },
      "execution_count": null,
      "outputs": [
        {
          "output_type": "execute_result",
          "data": {
            "text/plain": [
              "Document(metadata={'producer': 'Microsoft® Word LTSC', 'creator': 'Microsoft® Word LTSC', 'creationdate': '2024-05-14T10:48:40+03:30', 'moddate': '2024-05-14T10:50:44+03:30', 'author': 'Pishgam Rayaneh', 'source': '/content/pdf_downloads/جز 4 بند ب تبصره 2.pdf', 'total_pages': 2, 'page': 0, 'page_label': '1'}, page_content='تهران– بلوار میرداماد – پلاک  198 تلفن29951   کدپستی33111-15496 فاکس:66735674  سایت اینترنتیwww.cbi.ir \\n \\n \\n \\n \\nمديران  عامل محترم ب انك  های  ملي ايران،  سپه،  كشاورزی،  صنعت و معدن،  توسعه صادرا ت ايران،  توسعه تعاون ، \\nصادرات ايران ،  ملت،  تجارت،  رفاه  كارگران ،  اقتصاد نوين ،  پارسيان،  پاسارگاد،  سينا ،  دی،  شهر،  گردشگری،         \\nقرض الحسنه مهر ايران،  قرض الحسنه رسالت  و    شركت دولتي پست بانك  \\n \\nبا سلام و احترام؛  \\nپیرو نامه شماره  732/03  مورخ06/01/1403  در خصوص  ابلاغ  تسهیلات اشتغالزایی  مندرج در  اجززءا(  3) و4 )\\nبند  ب) تبصره2 قانون بودجه سالجاری، به پیوست جدول سهمیه آن بانک برای پرداخت تسهیلات موضوع جززء(  4 )\\nبند قانونی مذکور جهت استحضار  ارسال میشود. \\nلازم به ذکر است، با توجه به بند  ت) تبصره یادشده پیرامون ساز و کار نظارت بند مذکور، آن  بانک موظف است  \\nنسبت به اعلام عملکرد بند مذکور به صورت  ماهانه جهت ارسال به مراجع مربوطه اقدام نماید. \\nبا عنایت به مراتب فوق، خواهشمند است ترتیبی اتخاذ شود تا  حداكثر ظرف مدت يك هفته  از تاریخ وصول  \\nاین نامه، موضوع به واحدهای اجرایی ذیربط در سراسر کشور ابلاغ و  یک نسخه از ابلاغیه مربوطه به این بانک ارسال  \\nشود./6385052 \\n \\n \\n \\n \\n \\n \\n \\n \\n \\n \\n 12008/03 \\n 25/01/1403 \\n دارد \\n \\nاداره اعتبارات \\nمهدی صحابي                                                  سارا جلالي فراهاني  \\n2816                                                          10-7281')"
            ]
          },
          "metadata": {},
          "execution_count": 109
        }
      ]
    },
    {
      "cell_type": "code",
      "source": [
        "def clean_persian_text(text):\n",
        "    text = re.sub(r'\\s+', ' ', text)\n",
        "    text = text.replace(\" هه\", \"ه\")\n",
        "    text = text.replace(\" ا \", \"ا \")\n",
        "    text = re.sub(r'\\s+([.,؛:])', r'\\1', text)\n",
        "    return text.strip()\n",
        "\n",
        "path_to_pdf6 = \"/content/pdf_downloads/جز 4 بند ب تبصره 2.pdf\"\n",
        "reader = PdfReader(path_to_pdf6)\n",
        "\n",
        "all_text_6 = \"\"\n",
        "for page in reader.pages:\n",
        "    raw_text = page.extract_text()\n",
        "    all_text += clean_persian_text(raw_text) + \"\\n\\n\"\n",
        "\n",
        "print(all_text_6)\n"
      ],
      "metadata": {
        "colab": {
          "base_uri": "https://localhost:8080/"
        },
        "outputId": "4fa8f6b0-05a6-45e8-9d8c-8a35bc1d8b50",
        "id": "5C3o7g5TT13z"
      },
      "execution_count": null,
      "outputs": [
        {
          "output_type": "stream",
          "name": "stdout",
          "text": [
            "\n"
          ]
        }
      ]
    },
    {
      "cell_type": "markdown",
      "source": [
        "### **PDF 7**"
      ],
      "metadata": {
        "id": "0BU-gnEoUP7c"
      }
    },
    {
      "cell_type": "code",
      "source": [
        "path_to_pdf7 = (\"/content/pdf_downloads/بند ث تبصره 13.pdf\")"
      ],
      "metadata": {
        "id": "cIBt1OFaUP7d"
      },
      "execution_count": null,
      "outputs": []
    },
    {
      "cell_type": "code",
      "source": [
        "loader = PyPDFLoader(\n",
        "    path_to_pdf7,\n",
        ")\n",
        "docs7 = loader.load()\n"
      ],
      "metadata": {
        "id": "eUVqKbbHUP7d"
      },
      "execution_count": null,
      "outputs": []
    },
    {
      "cell_type": "code",
      "source": [
        "docs7[0]"
      ],
      "metadata": {
        "colab": {
          "base_uri": "https://localhost:8080/"
        },
        "outputId": "6e860f99-eb02-49c0-8827-decd5dea7195",
        "id": "qz_19_kVUP7d"
      },
      "execution_count": null,
      "outputs": [
        {
          "output_type": "execute_result",
          "data": {
            "text/plain": [
              "Document(metadata={'producer': 'Microsoft® Word LTSC', 'creator': 'Microsoft® Word LTSC', 'creationdate': '2024-05-14T10:10:41+03:30', 'author': 'Pishgam Rayaneh', 'moddate': '2024-05-14T10:10:41+03:30', 'source': '/content/pdf_downloads/بند ث تبصره 13.pdf', 'total_pages': 2, 'page': 0, 'page_label': '1'}, page_content='تهران– بلوار میرداماد – پلاک  198 تلفن29951   کدپستی33111-15496 فاکس:66735674  سایت اینترنتیwww.cbi.ir \\n \\n \\n \\nمديران عامل محترم بانكهای ملي ا يران، بانك سپه، تجارت، رفاه كارگران، صادرات ايران،كشاورزی،  ملت،  \\nمسكن، توسعه تعاون، صنعت و معدن، توسعه صادرات ايران، آينده، اقتصاد نوين، ايران زمين، پارسيان، \\nپاسارگاد، خاورميانه، دی، سامان، سينا، شهر، كارآفرين، گردشگری، سرمايه، مشترك ايران - ونزوئلا،  \\nشركت دولتي پست بانك، موسسه اعتباری غيربانكي ملل، قرض الحسنه رسالت و قرض الحسنه مهر ايران  \\n \\nباسلام و احترام؛ \\nبه آگاهی می رساند براساس بند (ث) تبصره (13) قانون بودجه سال1403 کل کشور مقرر شده است \\n\"بانک مرکزی جمهوری اسلامی ایران مکلف است مطابق با  قانون حمایتت ا  اتانواده و جتوانی جمیتتت و قتوانتر مربتو  بته \\nایثارگران، قانون حمایت ا  حقوق میلولان مصوب  20/12/1396، قانون جهش تولتد دانشبنتان، قانون ستاماندهی و حمایتت ا  \\nمشاغل اانگی و تسهتلات موضوع ماده (۷۷)  قانون الحاق برای مواد بته تنیتتب بیشتی ا  مقتررات متالی دولتت (2 )و ستتاد\\nمردمی  رستدگی به امور دیه و کمک به  ندانتان نتا مند، ا  محل سپردههای قرضالحسنه اعب ا  جاری و پساندا  شبکه بتانکی \\nپس ا  کسر سپرده قانونی حداقل  2  متلتون متلتارد ریال به قرضالحسنه ا دواج، فر ندآوری و ودییه یا ارید یا ساات مستکر \\nو دیگر موارد ذکرشده در قوانتر فوق  ااتصاص داده و ا  طریق بانکهای عامل (به تشیتص هتئت عالی بانک مرکزی جمهتوری \\nاسلامی ایران) پرداات گردد و در صورت عدم کفایت منابع، اولویتبندی و ترتتب اعطای تسهتلات به موارد مذکور در ایر بنتد \\nبه ترتتب شامل؛ تسهتلات قرضالحسنه ا دواج، تسهتلات قرضالحسنه فر ندآوری، تسهتلات قرضالحسنه ودییته یتا اریتد یتا \\nساات مسکر به شرح  یر اقدام نماید: \\n \\n\"جزء(3)-  تسهيلات قرضالحسنه وديعه يا خريد يا ساخت مسكن  (با رعایت قانون حمایت ا  اانواده و جوانی جمیتت): \\nایر تسهتلات برای اانوادههای فاقد مسکر که ا  01/01/1399 به بید صاحب فر ند سوم یتا بتشتتر میشتوند بته متتزان سته \\nمتلتارد (3.000.000.000 )ریال میباشد. \\n \\nجزء(6)-  مسؤولتت حسر اجرای ایر بند بر عهده بانک مرکزی جمهوری اسلامی ایران، مؤسسات اعتباری و تمامی مدیران و\\nکارکنان ذیربط میباشد. عدم اجرای هریک ا  بندهای ایر  تبصره (مشتمل بر تأاتر در پ رداات ایر تسهتلات یا دریافت  \\nضمانت فراتر ا  حدود ایر قانون) تیلف محسوب شده و در مراجع ذیصلاح قابل پتگتری است.  \\n \\nجزء(8  )-پس ا  اعتبارسنجی متقاضتان  و در صورت عدم تکافوی اعتبار آنها، به منیور تأمتر رکر ضتامر، مؤسستات اعتبتاری \\nموظفند  با توثتق حساب یارانه یا سهام عدالت متقاضتان یا بستگان درجه اول ا  طبقه اول آنها یا سایر داراییهای متالی وی یتا \\nتنها دریافت یک فقره سفته و یک نفر ضامر نسبت به پرداات تسهتلات اقدام نمایند. \\n \\nجز(9)- تسهتلات موضوع ایر بند ا  حکب موضوع ماده10 )قانون ادمت وظتفه عمومی مصوب 29/۷/1363 مستثنی است\" \\n    بر ایر اساس به آگاهی میرساند سهمیه آن بانک، توزیع استانی و دستور العمل مربوطه متعاقباً ارسال خواهد شد.  \\n 669/03 \\n 06/01/1403 \\n ندارد')"
            ]
          },
          "metadata": {},
          "execution_count": 113
        }
      ]
    },
    {
      "cell_type": "code",
      "source": [
        "def clean_persian_text(text):\n",
        "    # حذف فاصله‌های اضافی\n",
        "    text = re.sub(r'\\s+', ' ', text)\n",
        "    # اصلاح نیم‌فاصله‌های خراب‌شده\n",
        "    text = text.replace(\" هه\", \"ه\")\n",
        "    text = text.replace(\" ا \", \"ا \")\n",
        "    # حذف فاصله قبل علائم\n",
        "    text = re.sub(r'\\s+([.,؛:])', r'\\1', text)\n",
        "    return text.strip()\n",
        "\n",
        "path_to_pdf7 = \"/content/pdf_downloads/بند ث تبصره 13.pdf\"\n",
        "reader = PdfReader(path_to_pdf7)\n",
        "\n",
        "all_text_7 = \"\"\n",
        "for page in reader.pages:\n",
        "    raw_text = page.extract_text()\n",
        "    all_text += clean_persian_text(raw_text) + \"\\n\\n\"\n",
        "\n",
        "print(all_text_7)\n"
      ],
      "metadata": {
        "colab": {
          "base_uri": "https://localhost:8080/"
        },
        "outputId": "f6fdb079-9903-4fa1-b826-49cedb6452f5",
        "id": "yNbtcoikUP7d"
      },
      "execution_count": null,
      "outputs": [
        {
          "output_type": "stream",
          "name": "stdout",
          "text": [
            "\n"
          ]
        }
      ]
    },
    {
      "cell_type": "markdown",
      "source": [
        "### **PDF 8**"
      ],
      "metadata": {
        "id": "a5dR17o5Uj75"
      }
    },
    {
      "cell_type": "code",
      "source": [
        "path_to_pdf8 = (\"/content/pdf_downloads/ازدواج.pdf\")"
      ],
      "metadata": {
        "id": "_41WZohQUj75"
      },
      "execution_count": null,
      "outputs": []
    },
    {
      "cell_type": "code",
      "source": [
        "loader = PyPDFLoader(\n",
        "    path_to_pdf8,\n",
        ")\n",
        "docs8 = loader.load()\n"
      ],
      "metadata": {
        "id": "s-WrZI4XUj76"
      },
      "execution_count": null,
      "outputs": []
    },
    {
      "cell_type": "code",
      "source": [
        "docs8[0]"
      ],
      "metadata": {
        "colab": {
          "base_uri": "https://localhost:8080/"
        },
        "outputId": "bbac864b-5f3d-4c34-a02d-2ab20709fa8b",
        "id": "WZ9XWtUEUj76"
      },
      "execution_count": null,
      "outputs": [
        {
          "output_type": "execute_result",
          "data": {
            "text/plain": [
              "Document(metadata={'producer': 'Microsoft® Word LTSC', 'creator': 'Microsoft® Word LTSC', 'creationdate': '2024-05-14T10:28:35+03:30', 'author': 'Pishgam Rayaneh', 'moddate': '2024-05-14T10:28:35+03:30', 'source': '/content/pdf_downloads/ازدواج.pdf', 'total_pages': 2, 'page': 0, 'page_label': '1'}, page_content='تهران– بلوار میرداماد – پلاک  198 تلفن29951   کدپستی33111-15496 فاکس:66735674  سایت اینترنتیwww.cbi.ir \\n \\n \\n \\n \\n \\nمديران عامل محتر م بانكهای ملي ايران، بانك سپه، تجارت، رفاه كارگران، صادرات ايران،كشاورزی،  \\nملت، مسكن، توسعه تعاون، صنعت و معدن، توسعه صادرات ايران، آينده، اقتصاد نوين، ايران زمين، پارسيان،  \\nپاسارگاد، خاورميانه، دی، سامان، سينا، شهر، كارآفرين، گردشگری، سرمايه، مشترك ايران   -  ونزوئلا،      \\nشركت دولتي پست بانك، موسسه اعتباری غيربانكي ملل، قرض الحسنه رسالت و قرض الحسنه مهر ايران  \\n \\nباسلام و احترام، \\nبه آگاهی می رساند  براساس بند (ث) تبصره (13) قانون بودجه سال1403 کل کشور مقرر شده است \\n\"بانک مرکزی جمهوری اسلامی ایران مکلف است مطابق با قانون حمایت از خانواده و جوانی جمعیت و قوانین مربوط \\nبه ایثارگران، قانون حمایت از حقوق معلولان مصوب  20/12/1396، قانون جهش تولید دانشبنیان، قانون ساماندهی و \\nحمایت از مشاغل خانگی و تسهیلات موضوع ماده (۷۷)  قانون الحاق برخی مواد بههه تنمههیش باشههی از مقههررات مههالی \\nدولت (2  )و ستاد مردمی رسیدگی به امور دیه و کمک به زندانیان نیازمند، از محل سههدرده های قرضالحسههنه ا ههش از \\nجاری و پسانداز شبکه بانکی پس از کسر سدرده قههانونی حههداقل  2  میلیههون میلیههارد ریههال بههه قرض الحسههنه ازدوا ، \\nفرزندآوری و ودیعه یا خرید یا ساخت مسکن و دیگر موارد ذکرشده در قوانین فوق اختصاص داده و از طریق بانکهههای \\n امل (به تشایص هیئت  الی بانک مرکزی جمهوری اسلامی ایران) پرداخت گردد و در صورت  ههدم کیایههت منههاب ، \\nاولویتبندی و ترتیب ا طای تسهیلات به موارد مذکور در این بند به ترتیههب شههامله تسهههیلات قرض الحسههنه ازدوا ، \\nتسهیلات قرضالحسنه فرزندآوری، تسهیلات قرضالحسنه ودیعه یا خرید یا ساخت مسکن به شرح زیر اقدام نماید: \\n\"جزء(1)- تسهيلات قرض الحسنه ازدواج  (موضوع ماده (68  )قانون حمایت از خانواده و جوانی جمعیت)ه \\n1-1-  تسهیلات قرض الحسنه ازدوا  برای هر یک از زو  هایی که تاریخ ازدوا  آنها بعد از01/01/1399  بوده است\\nمبلغ سه میلیارد ( 3,000,000,000) ریال و با دوره بازپرداخت ده ساله \\n2-1-  تسهیلات قرض الحسنه ازدوا  برای زوجهای زیر بیست و پنج سال و زوجه های زیر بیست و سه سال مبلغ\\nسه میلیارد و پانصد میلیون (3,500,000,000) ریال \\nجزء(6)-  مسؤولیت حسن اجرای این بند بر  هده بانک مرکزی جمهوری اسلامی ایران، مؤسسات ا تباری و تمامی  \\nمدیران و کارکنان ذیربط میباشد.  دم اجرای هریک از بندهای این تبصره (مشتمل بر تأخیر در پرداخت این  \\nتسهیلات یا دریافت ضمانت فراتر از حدود این قانون) تالف محسوب شده  و در مراج  ذیصلاح قابل پیگیری است.  \\nجزء(8  )-پس از ا تبارسنجی متقاضیان و در صورت  دم تکافوی ا تبار آنها، به منمور تأمین رکههن ضههامن، مؤسسههات \\nا تباری موظیند با توثیق حساب یارانه یا سهام  دالت متقاضیان یهها بسههتگان درجههه اول از طبقههه اول آنههها یهها سههایر \\nداراییهای مالی وی یا تنها دریافت یک ف قره سیته و یک نیر ضامن نسبت به پرداخت تسهیلات اقدام نمایند. \\n 40/03 \\n 06/01/1403 \\n دارد')"
            ]
          },
          "metadata": {},
          "execution_count": 117
        }
      ]
    },
    {
      "cell_type": "code",
      "source": [
        "def clean_persian_text(text):\n",
        "    text = re.sub(r'\\s+', ' ', text)\n",
        "    text = text.replace(\" هه\", \"ه\")\n",
        "    text = text.replace(\" ا \", \"ا \")\n",
        "    text = re.sub(r'\\s+([.,؛:])', r'\\1', text)\n",
        "    return text.strip()\n",
        "\n",
        "path_to_pdf8 = \"/content/pdf_downloads/ازدواج.pdf\"\n",
        "reader = PdfReader(path_to_pdf8)\n",
        "\n",
        "all_text_8 = \"\"\n",
        "for page in reader.pages:\n",
        "    raw_text = page.extract_text()\n",
        "    all_text += clean_persian_text(raw_text) + \"\\n\\n\"\n",
        "\n",
        "print(all_text_8)\n"
      ],
      "metadata": {
        "colab": {
          "base_uri": "https://localhost:8080/"
        },
        "outputId": "25f11ecc-3d33-4777-b794-8db256610a1b",
        "id": "qPJrDKIUUj76"
      },
      "execution_count": null,
      "outputs": [
        {
          "output_type": "stream",
          "name": "stdout",
          "text": [
            "\n"
          ]
        }
      ]
    },
    {
      "cell_type": "code",
      "source": [
        "import os\n",
        "from pypdf import PdfReader\n",
        "import re\n",
        "\n",
        "def clean_persian_text(text):\n",
        "    text = re.sub(r'\\s+', ' ', text)\n",
        "    text = text.replace(\" هه\", \"ه\")\n",
        "    text = text.replace(\" ا \", \"ا \")\n",
        "    text = re.sub(r'\\s+([.,؛:])', r'\\1', text)\n",
        "    return text.strip()\n",
        "\n",
        "pdf_files = [\n",
        "    \"/content/pdf_downloads/مشاغل خانگی.pdf\",\n",
        "    \"/content/pdf_downloads/فرزند اوری.pdf\",\n",
        "    \"/content/pdf_downloads/سهمیه مسکن محرومین.pdf\",\n",
        "    \"/content/pdf_downloads/سقف کلی و فردی تسهیلات قرض¬الحسنه ودیعه یا ساخت یا خرید مسکن فرزند.pdf\",\n",
        "    \"/content/pdf_downloads/دستورالعمل مسکن بند ث.pdf\",\n",
        "    \"/content/pdf_downloads/جز 4 بند ب تبصره 2.pdf\",\n",
        "    \"/content/pdf_downloads/بند ث تبصره 13.pdf\",\n",
        "    \"/content/pdf_downloads/ازدواج.pdf\"\n",
        "]\n",
        "\n",
        "for pdf_path in pdf_files:\n",
        "    base_name = os.path.splitext(os.path.basename(pdf_path))[0]\n",
        "    txt_path = f\"/content/pdf_downloads/{base_name}_clean.txt\"\n",
        "\n",
        "    if os.path.exists(txt_path):\n",
        "        print(f\"📂 متن پردازش‌شده برای {base_name} قبلاً ذخیره شده. بارگذاری از فایل...\")\n",
        "        with open(txt_path, \"r\", encoding=\"utf-8\") as f:\n",
        "            all_text = f.read()\n",
        "    else:\n",
        "        print(f\"📄 پردازش {base_name} و ذخیره متن...\")\n",
        "        reader = PdfReader(pdf_path)\n",
        "        all_text = \"\"\n",
        "        for page in reader.pages:\n",
        "            raw_text = page.extract_text()\n",
        "            all_text += clean_persian_text(raw_text) + \"\\n\\n\"\n",
        "\n",
        "        with open(txt_path, \"w\", encoding=\"utf-8\") as f:\n",
        "            f.write(all_text)\n",
        "\n",
        "    print(f\"متن فایل {base_name} (۵۰۰ کاراکتر اول):\")\n",
        "    print(all_text[:500])\n",
        "    print(\"=\"*60)"
      ],
      "metadata": {
        "colab": {
          "base_uri": "https://localhost:8080/"
        },
        "id": "tiQMsGArUvI6",
        "outputId": "58c3dfb6-bb1d-4e61-8c13-ae32a338be70"
      },
      "execution_count": null,
      "outputs": [
        {
          "output_type": "stream",
          "name": "stdout",
          "text": [
            "📂 متن پردازش‌شده برای مشاغل خانگی قبلاً ذخیره شده. بارگذاری از فایل...\n",
            "متن فایل مشاغل خانگی (۵۰۰ کاراکتر اول):\n",
            "تهران– بلوار میرداماد – پلاک 198 تلفن29951 کدپستی33111-15496 فاکس:66735674 سایت اینترنتیwww.cbi.ir مدیران عامل محترم بانک های ملي ایران، توسعه تعاون ، صادرات ایران ، تجارت، ملت ، سپه، رفاه كارگران، قرض الحسنه مهر ایران، قرض الحسنه رسالت و شركت دولتي پست بانک با سلام و احترام؛ با عنايت به مفاد ماااد( 18) دسااتالاملا ااراياان نااامان ساااماماين و ح اياات ان م اااا ااام ن دل صاص تليين و تانيع سه يه تسهيلات نرضامحسنه ما ا ااام ن تاساان بامااي مرهااه آ سااه يه ن بامي اهت اعطا تسهيلات ماصاف ان محااا م\n",
            "============================================================\n",
            "📂 متن پردازش‌شده برای فرزند اوری قبلاً ذخیره شده. بارگذاری از فایل...\n",
            "متن فایل فرزند اوری (۵۰۰ کاراکتر اول):\n",
            "تهران– بلوار میرداماد – پلاک 198 تلفن29951 کدپستی33111-15496 فاکس:66735674 سایت اینترنتیwww.cbi.ir مديران عامل مح تر م بانك های مليا يران، بانك سپه، تجارت، رفاه كارگران، صادرات ايران،كشاورزی، ملت، مسكن، توسعه تعاون، صنعت و معدن، توسعه صادرات ايران، آينده، اقتصاد نوين، ايران زمين، پارسيان، پاسارگاد، خاورميانه، دی، سامان، سينا، شهر، كارآفرين، گردشگری، سرمايه، مشترك ايران - ونزوئلا، شركت دولتي پست بانك، موسسه اعتباری غيربانكي ملل، قرض الحسنه رسالت و قرض الحسنه مهر ايران باسلام و احترام؛ به آگاهی می\n",
            "============================================================\n",
            "📂 متن پردازش‌شده برای سهمیه مسکن محرومین قبلاً ذخیره شده. بارگذاری از فایل...\n",
            "متن فایل سهمیه مسکن محرومین (۵۰۰ کاراکتر اول):\n",
            "تهران– بلوار میرداماد – پلاک 198 تلفن29951 کدپستی33111-15496 فاکس:66735674 سایت اینترنتیwww.cbi.ir مدیران عامل محترم بانک هایتجارت، رفاه كارگران، مسكن، ملت، صادرات ایران، سپه، ملي ایران، پارسيان، كشاورزی با سلام و احترام؛ پيرو نامه شماره 727/03 مورخ06/01/1403 پيرامون ابلاغ تسهيلات مسكن محرومين موضوع جزء4) بند (ث) تبصره13 قانون بودجه سالجاری، به پيوست جدول سهميه آن بانک برای پرداختت تستهيلات بنتد قانوني مذكور با سقف فردی مبلغ 4 ميلياردریال و تایيد سامانه رفاه ایرانيان (مبني بر قرارداشتن این افراد\n",
            "============================================================\n",
            "📂 متن پردازش‌شده برای سقف کلی و فردی تسهیلات قرض¬الحسنه ودیعه یا ساخت یا خرید مسکن فرزند قبلاً ذخیره شده. بارگذاری از فایل...\n",
            "متن فایل سقف کلی و فردی تسهیلات قرض¬الحسنه ودیعه یا ساخت یا خرید مسکن فرزند (۵۰۰ کاراکتر اول):\n",
            "تهران– بلوار میرداماد – پلاک 198 تلفن29951 کدپستی33111-15496 فاکس:66735674 سایت اینترنتیwww.cbi.ir مدیران عامل محترم بانک هایملت، صادرات ایران، تجارت، مسكن و شركت دولتي پست بانک باسلام و احترام؛ پیرو نامه شماره 260721/00 مورخ08/09/1400 درخصوص ابلاغ بنددایاق نددانوا حمازددا اا خددانواده و ددوان معیا و در راستاقا راق تبصره های (۱) و (۲) ذیل ماده (69) قانون مذكور، سدد ف کلدد و دددردق ل دد یلا ت نرضالح نه ودزعه زا ساخا زا خرزا م کن درانا با احت اب نددرخ لددورم سددا نه لعیددی ن و بدده اناددمام دسددتو\n",
            "============================================================\n",
            "📂 متن پردازش‌شده برای دستورالعمل مسکن بند ث قبلاً ذخیره شده. بارگذاری از فایل...\n",
            "متن فایل دستورالعمل مسکن بند ث (۵۰۰ کاراکتر اول):\n",
            "تهران– بلوار میرداماد – پلاک 198 تلفن29951 کدپستی33111-15496 فاکس:66735674 سایت اینترنتیwww.cbi.ir مدیران عامل محترم بانک های ملت ، صادرات ایران ، تجارت، مسكن و شركت دولتي پست بانک با سلام و احترام؛ پیرو نام ه شماره 669/03 مورخ06/01/1403 پیرامون تسهیلات قرض الحسنه ودیعه، خرید یا ساخت مسکن برای خانواده های فاقد مسکن که از ابتدای سال 1399 به بعد صاحب فرزند سوم یا بیشتر می شوند موضوع جزء (3 )بند (ثتبصره (13) قانون بودجه سال1403 كل كشور، به پیوست دستورالعمل اجرایی ، به همراه جدول سهمیه و توزیع استان\n",
            "============================================================\n",
            "📂 متن پردازش‌شده برای جز 4 بند ب تبصره 2 قبلاً ذخیره شده. بارگذاری از فایل...\n",
            "متن فایل جز 4 بند ب تبصره 2 (۵۰۰ کاراکتر اول):\n",
            "تهران– بلوار میرداماد – پلاک 198 تلفن29951 کدپستی33111-15496 فاکس:66735674 سایت اینترنتیwww.cbi.ir مديران عامل محترم ب انك های ملي ايران، سپه، كشاورزی، صنعت و معدن، توسعه صادرا ت ايران، توسعه تعاون ، صادرات ايران ، ملت، تجارت، رفاه كارگران ، اقتصاد نوين ، پارسيان، پاسارگاد، سينا ، دی، شهر، گردشگری، قرض الحسنه مهر ايران، قرض الحسنه رسالت و شركت دولتي پست بانك با سلام و احترام؛ پیرو نامه شماره 732/03 مورخ06/01/1403 در خصوص ابلاغ تسهیلات اشتغالزایی مندرج در اجززءا( 3) و4 ) بند ب) تبصره2 قانون بودجه\n",
            "============================================================\n",
            "📂 متن پردازش‌شده برای بند ث تبصره 13 قبلاً ذخیره شده. بارگذاری از فایل...\n",
            "متن فایل بند ث تبصره 13 (۵۰۰ کاراکتر اول):\n",
            "تهران– بلوار میرداماد – پلاک 198 تلفن29951 کدپستی33111-15496 فاکس:66735674 سایت اینترنتیwww.cbi.ir مديران عامل محترم بانكهای مليا يران، بانك سپه، تجارت، رفاه كارگران، صادرات ايران،كشاورزی، ملت، مسكن، توسعه تعاون، صنعت و معدن، توسعه صادرات ايران، آينده، اقتصاد نوين، ايران زمين، پارسيان، پاسارگاد، خاورميانه، دی، سامان، سينا، شهر، كارآفرين، گردشگری، سرمايه، مشترك ايران - ونزوئلا، شركت دولتي پست بانك، موسسه اعتباری غيربانكي ملل، قرض الحسنه رسالت و قرض الحسنه مهر ايران باسلام و احترام؛ به آگاهی می رس\n",
            "============================================================\n",
            "📂 متن پردازش‌شده برای ازدواج قبلاً ذخیره شده. بارگذاری از فایل...\n",
            "متن فایل ازدواج (۵۰۰ کاراکتر اول):\n",
            "تهران– بلوار میرداماد – پلاک 198 تلفن29951 کدپستی33111-15496 فاکس:66735674 سایت اینترنتیwww.cbi.ir مديران عامل محتر م بانكهای ملي ايران، بانك سپه، تجارت، رفاه كارگران، صادرات ايران،كشاورزی، ملت، مسكن، توسعه تعاون، صنعت و معدن، توسعه صادرات ايران، آينده، اقتصاد نوين، ايران زمين، پارسيان، پاسارگاد، خاورميانه، دی، سامان، سينا، شهر، كارآفرين، گردشگری، سرمايه، مشترك ايران - ونزوئلا، شركت دولتي پست بانك، موسسه اعتباری غيربانكي ملل، قرض الحسنه رسالت و قرض الحسنه مهر ايران باسلام و احترام، به آگاهی می ر\n",
            "============================================================\n"
          ]
        }
      ]
    },
    {
      "cell_type": "code",
      "source": [
        "os.environ[\"OPENAI_API_KEY\"] = input(\" Enter your OpenAI API key: \")"
      ],
      "metadata": {
        "id": "KW-v0K3qacFJ"
      },
      "execution_count": null,
      "outputs": []
    },
    {
      "cell_type": "markdown",
      "source": [
        "#**Creating RAG**"
      ],
      "metadata": {
        "id": "aaG8Do6FIVo9"
      }
    },
    {
      "cell_type": "code",
      "source": [
        "from langchain.text_splitter import RecursiveCharacterTextSplitter\n",
        "from langchain.embeddings import OpenAIEmbeddings\n",
        "from langchain.vectorstores import FAISS"
      ],
      "metadata": {
        "id": "DqP-fOdYV1ZO"
      },
      "execution_count": null,
      "outputs": []
    },
    {
      "cell_type": "markdown",
      "source": [
        "### **LangChain + FAISS + OpenAI Embeddings**"
      ],
      "metadata": {
        "id": "GEwagUvuYSWU"
      }
    },
    {
      "cell_type": "code",
      "source": [
        "from PyPDF2 import PdfReader\n",
        "\n",
        "def extract_text_from_pdf(path):\n",
        "    reader = PdfReader(path)\n",
        "    all_text = \"\"\n",
        "    for page in reader.pages:\n",
        "        text = page.extract_text()\n",
        "        if text:\n",
        "            all_text += text + \"\\n\"\n",
        "    return all_text\n",
        "\n",
        "all_text_doc1 = extract_text_from_pdf(\"/content/pdf_downloads/مشاغل خانگی.pdf\")\n",
        "all_text_doc2 = extract_text_from_pdf(\"/content/pdf_downloads/فرزند اوری.pdf\")\n",
        "all_text_doc3 = extract_text_from_pdf(\"/content/pdf_downloads/سهمیه مسکن محرومین.pdf\")\n",
        "all_text_doc4 = extract_text_from_pdf(\"/content/pdf_downloads/سقف کلی و فردی تسهیلات قرض¬الحسنه ودیعه یا ساخت یا خرید مسکن فرزند.pdf\")\n",
        "all_text_doc5 = extract_text_from_pdf(\"/content/pdf_downloads/دستورالعمل مسکن بند ث.pdf\")\n",
        "all_text_doc6 = extract_text_from_pdf(\"/content/pdf_downloads/جز 4 بند ب تبصره 2.pdf\")\n",
        "all_text_doc7 = extract_text_from_pdf(\"/content/pdf_downloads/بند ث تبصره 13.pdf\")\n",
        "all_text_doc8 = extract_text_from_pdf(\"/content/pdf_downloads/ازدواج.pdf\")\n",
        "\n"
      ],
      "metadata": {
        "id": "gddEKI_bbjeT"
      },
      "execution_count": null,
      "outputs": []
    },
    {
      "cell_type": "code",
      "source": [
        "from langchain.text_splitter import RecursiveCharacterTextSplitter\n",
        "\n",
        "documents = [\n",
        "    all_text_doc1,\n",
        "    all_text_doc2,\n",
        "    all_text_doc3,\n",
        "    all_text_doc4,\n",
        "    all_text_doc5,\n",
        "    all_text_doc6,\n",
        "    all_text_doc7,\n",
        "    all_text_doc8\n",
        "]\n",
        "\n",
        "text_splitter = RecursiveCharacterTextSplitter(chunk_size=1000, chunk_overlap=100)\n",
        "\n",
        "chunks = []\n",
        "for i, doc_text in enumerate(documents):\n",
        "    if not doc_text.strip():\n",
        "        print(f\"متن سند {i+1} خالی است!\")\n",
        "        continue\n",
        "    splits = text_splitter.split_text(doc_text)\n",
        "    print(f\"تعداد چانک‌های سند {i+1}: {len(splits)}\")\n",
        "    chunks.extend(splits)\n",
        "\n",
        "print(f\"تعداد کل چانک‌ها: {len(chunks)}\")\n"
      ],
      "metadata": {
        "colab": {
          "base_uri": "https://localhost:8080/"
        },
        "id": "TZZMgQMpZ9mF",
        "outputId": "59a3b86b-e445-4b5e-abc8-61b17c1ef581"
      },
      "execution_count": null,
      "outputs": [
        {
          "output_type": "stream",
          "name": "stdout",
          "text": [
            "تعداد چانک‌های سند 1: 3\n",
            "تعداد چانک‌های سند 2: 5\n",
            "تعداد چانک‌های سند 3: 3\n",
            "تعداد چانک‌های سند 4: 10\n",
            "تعداد چانک‌های سند 5: 11\n",
            "تعداد چانک‌های سند 6: 4\n",
            "تعداد چانک‌های سند 7: 4\n",
            "تعداد چانک‌های سند 8: 5\n",
            "تعداد کل چانک‌ها: 45\n"
          ]
        }
      ]
    },
    {
      "cell_type": "code",
      "source": [
        "embeddings = OpenAIEmbeddings()\n",
        "\n",
        "vector_store = FAISS.from_texts(chunks, embeddings)\n",
        "\n",
        "\n",
        "retriever = vector_store.as_retriever()\n",
        "\n",
        "query = \"تسهیلات فرزندآوری چیست؟\"\n",
        "results = retriever.get_relevant_documents(query)\n",
        "\n",
        "for res in results:\n",
        "    print(res.page_content)\n",
        "    print(\"=\"*40)\n"
      ],
      "metadata": {
        "colab": {
          "base_uri": "https://localhost:8080/"
        },
        "id": "4G4wM0a5cVkp",
        "outputId": "833b0eb9-3472-4d6a-8452-036332795a7e"
      },
      "execution_count": null,
      "outputs": [
        {
          "output_type": "stream",
          "name": "stdout",
          "text": [
            "1- تسهيالت وديعه: لزوم ارائه قرارداد اجار  با درج که رهگ يری در آن. \n",
            "2-  تسهيالت  خريه:  لزوم ارائه مبايعهنامه  با درج که رهگيری  در آن و اعطاء تسهيالت  همزمان با انتقال سنه رسم  ملک به \n",
            "نام تسهيالتگيرنه .  \n",
            "3-  تسهيالت ساخت: لزوم ارائه پروانه ساخت معتبر و ارائه اسن اد مبين مالکيت در مداردی که تسهيالتگيرنه ، خدد، مالاک  \n",
            "عرصه است و ارائه قرارداد مش ارکت در سااخت در ماداردی کاه تساهيالتگيرنه ، مالاک عرصاه نم  باشاه و در صادرت \n",
            "اعتبارسنج   متقاض  و تکميل مهارک و اخذ مهارک متناسب از وی کل مبلغ تسهيالت در يک مرحله به متقاض  پرداخات \n",
            "خداهه شه. \n",
            "تبصره:  به منظدر جلدگيری از دريافت مجهد تسهيالت مدضدع ايان بناه از قااندن تدسا ط متقاضايان از سااير بانکهاا و \n",
            "مؤسسات اعتباری ، ضروری است در مقطع انعقاد قرارداد و   قبل از پرداخت تساهيالت عاالو  بار اساتعالمهای  اخاذ شاه  \n",
            "براساس ماد   (5   ) که در زمان ارائه درخداست وتشکيل پرونه  اخذ م  شدد و صرف نظر از دارای اعتبار بددن آن ، اساتعالم \n",
            "مجهد از سامانه سمات به منظدر کنترل سدابق متقاض  و احراز عهم استفاد  از تسهيالت قبل  (بررس  تسهيالت مساکن و\n",
            "========================================\n",
            "به نام تسهيالتگيرنده.  \n",
            "3-  تسهیالت  ساخت:  لزوم  ارائه  پروانه  ساخت معتبر و ارائه اسناد مبين مالکيت در مواردی که تسهيالتگيرنده،  خود، مالک \n",
            "عرصه  است  و  ارائه  قرارداد  مشارکت در ساخت در مواردی که تسهيالتگيرنده،  مالک عرصه نميباشهد و در صهورت اعتبهار \n",
            "سنجي  متقاضي  و  تکميل  مدارک  و اخذ  مدارک  متناسب  از  وی کل  مبلغ  تسهيالت در يک مرحله به متقاضي پرداخت خواهد \n",
            "شد. \n",
            "      تبصره  :  به  منظور  جلوگيری  از  دريافت  مجدد  تسهيالت  موضوع  اين  بند  از  قانون توسط متقاضهيان  از سهاير بانکهها و \n",
            "مؤسسات   اعتباری  ،  ضروری  است  در  مقطع  انعقاد  قرارداد  و  قبل  از  پرداخت  تسههيالت  عهالوه  بهر  اسهتعالمهای  اخهذ  شهده \n",
            "براساس  ماده  (5)  که  در  زمان  ارائه  درخواست  و  تشکيل  پرونده  اخذ  مي شود و صرف نظر از دارای اعتبار بودن آن، اسهتعالم \n",
            "مجدد  از  سامانه سمات به منظور کنترل سوابق متقاضي و احراز عدم استفاده از تسهيالت قبلي (بررسي  تسهيالت مسهکن و \n",
            "تسهيالت جعاله فعال متقاضيان) در چارچوب موضوع اين بند قانوني صورت پذيرد. \n",
            " \n",
            "3\n",
            "========================================\n",
            "دولت (2  ) و ستاد مردمی رسیدگی به امور دیه و کمک به زندانیان نیازمند، از محل سههدرده های قرضالحسههنه ا ههش از  \n",
            "جاری و پسانداز شبکه بانکی پس از کسر سدرده قههانونی حههداقل   2  میلیههون میلیههارد ریههال بههه قرض الحسههنه ازدوا ، \n",
            "فرزندآوری و ودیعه یا خرید یا ساخت مسکن و دیگر موارد ذکرشده در قوانین فوق اخت صاص داده و از طریق بانکهههای \n",
            " امل (به تشایص هیئت  الی بانک مرکزی جمهوری اسالمی ایران) پرداخت گردد و در صورت  ههدم کیایههت منههاب ، \n",
            "اولویتبندی و ترتیب ا طای تسهیالت به موارد مذکور در این بند به ترتیههب شههامل؛ تسهههیالت قرض الحسههنه ازدوا ، \n",
            "تسهیالت قرضالحسنه فرزندآوری، ت سهیالت قرضالحسنه ودیعه یا خرید یا ساخت مسکن به شرح زیر اقدام نماید:  \n",
            " \"جزء (2)  - تسهيالت قرض الحسنه فرزندآوری (موضوع ماده (10  ) :)قانون حمایت از خانواده و جوانی جمعیت \n",
            " برای فرزندانی که از  1/1/1400  به بعد به دنیا آمدهاند با ر ایت شروط مندر  در قانون حمای ت از خانواده و جوانی  \n",
            "جمعیت تسهیالت قرضالحسنه فرزندآوری به شرح زیر پرداخت می شود:  \n",
            "1-2- ( به ازای فرزند اول چهارصد میلیون 400.000.000 )ریال\n",
            "========================================\n",
            "حمایت از خانواده و جوانی جمعیت، تعيين م  گردنه.    \n",
            "۱-4-    :فاقدین مسکنافراد سرپرست خانداری  که خدد و افراد تحت تکفل آنان در زمان اخذ تسهيالت، فاقه زمين مسکدن  \n",
            "يا واحه مسکدن  بدد  و استعالم آنها از سامانه متمرکز اطالعات تسه يالت و تعههات بانکها (سمات) و طرحهای جامع حماايت   \n",
            "مسکن وزارت را  و شهرسازی ( Temgt  ) فاقه تسهيالت فعال بخش مسکن و سابقه مالکيت مباشه. \n",
            "5-۱-تسهیالت:   \n",
            "     ۱-5-۱-   تسهيالت قرض الحسنه وديعه يا خريه يا ساخت مسکن (بنا به درخداست خاندار)  با  بازپرداخت حهاکثر   10  ساله  \n",
            "برای خانداد  های فاقه مسکن   از محل منابع سپرد  های پس انهاز و جاری قرض الحسنه نظام بانک    به شرح ذيل قابل پرداخت \n",
            "م  باشه:   \n",
            "خانداد  هاي   که از سال  1399  به بعهصاحب دو  فرزنه ،  يک فرزنه  و  خانداد  های دو نفر  (زوج و زوجه) که تاريخ وقدع عق هشان از  \n",
            "سال 1399 به بعهم   باشه.\n",
            "========================================\n"
          ]
        }
      ]
    },
    {
      "cell_type": "code",
      "source": [
        "embeddings = OpenAIEmbeddings()\n",
        "\n",
        "vector_store = FAISS.from_texts(chunks, embeddings)\n",
        "\n",
        "\n",
        "retriever = vector_store.as_retriever()\n",
        "\n",
        "query = \"سهمیه مسکن محرومین چیست؟\"\n",
        "results = retriever.get_relevant_documents(query)\n",
        "\n",
        "for res in results:\n",
        "    print(res.page_content)\n",
        "    print(\"=\"*40)\n"
      ],
      "metadata": {
        "colab": {
          "base_uri": "https://localhost:8080/"
        },
        "id": "By8niNDBd9tQ",
        "outputId": "948cf9e4-08f4-4e1d-ccf2-4ee99bc8ec96"
      },
      "execution_count": null,
      "outputs": [
        {
          "output_type": "stream",
          "name": "stdout",
          "text": [
            "حمایت از خانواده و جوانی جمعیت، تعيين م  گردنه.    \n",
            "۱-4-    :فاقدین مسکنافراد سرپرست خانداری  که خدد و افراد تحت تکفل آنان در زمان اخذ تسهيالت، فاقه زمين مسکدن  \n",
            "يا واحه مسکدن  بدد  و استعالم آنها از سامانه متمرکز اطالعات تسه يالت و تعههات بانکها (سمات) و طرحهای جامع حماايت   \n",
            "مسکن وزارت را  و شهرسازی ( Temgt  ) فاقه تسهيالت فعال بخش مسکن و سابقه مالکيت مباشه. \n",
            "5-۱-تسهیالت:   \n",
            "     ۱-5-۱-   تسهيالت قرض الحسنه وديعه يا خريه يا ساخت مسکن (بنا به درخداست خاندار)  با  بازپرداخت حهاکثر   10  ساله  \n",
            "برای خانداد  های فاقه مسکن   از محل منابع سپرد  های پس انهاز و جاری قرض الحسنه نظام بانک    به شرح ذيل قابل پرداخت \n",
            "م  باشه:   \n",
            "خانداد  هاي   که از سال  1399  به بعهصاحب دو  فرزنه ،  يک فرزنه  و  خانداد  های دو نفر  (زوج و زوجه) که تاريخ وقدع عق هشان از  \n",
            "سال 1399 به بعهم   باشه.\n",
            "========================================\n",
            "دولت (2  ) و ستاد مردمی رسیدگی به امور دیه و کمک به زندانیان نیازمند، از محل سههدرده های قرضالحسههنه ا ههش از  \n",
            "جاری و پسانداز شبکه بانکی پس از کسر سدرده قههانونی حههداقل   2  میلیههون میلیههارد ریههال بههه قرض الحسههنه ازدوا ، \n",
            "فرزندآوری و ودیعه یا خرید یا ساخت مسکن و دیگر موارد ذکرشده در قوانین فو ق اختصاص داده و از طریق بانکهههای \n",
            " امل (به تشایص هیئت  الی بانک مرکزی جمهوری اسالمی ایران) پرداخت گردد و در صورت  ههدم کیایههت منههاب ، \n",
            "اولویتبندی و ترتیب ا طای تسهیالت به موارد مذکور در این بند به ترتیههب شههامله تسهههیالت قرض الحسههنه ازدوا ، \n",
            "تسهیالت قرضالحسنه فرزندآو ری، تسهیالت قرضالحسنه ودیعه یا خرید یا ساخت مسکن به شرح زیر اقدام نماید:  \n",
            "\"جزء(1)- تسهيالت قرض الحسنه ازدواج  (موضوع ماده (68  ) قانون حمایت از خانواده و جوانی جمعیت)ه \n",
            "1-1-    تسهیالت قرض الحسنه ازدوا  برای هر یک از زو  هایی که تاریخ ازدوا  آنها بعد از01/01/1399    بوده است\n",
            "مبلغ سه میلیارد ( 3,000,000,000  ) ریال و با دوره بازپرداخت ده ساله\n",
            "========================================\n",
            "دولت (2  ) و ستاد مردمی رسیدگی به امور دیه و کمک به زندانیان نیازمند، از محل سههدرده های قرضالحسههنه ا ههش از  \n",
            "جاری و پسانداز شبکه بانکی پس از کسر سدرده قههانونی حههداقل   2  میلیههون میلیههارد ریههال بههه قرض الحسههنه ازدوا ، \n",
            "فرزندآوری و ودیعه یا خرید یا ساخت مسکن و دیگر موارد ذکرشده در قوانین فوق اخت صاص داده و از طریق بانکهههای \n",
            " امل (به تشایص هیئت  الی بانک مرکزی جمهوری اسالمی ایران) پرداخت گردد و در صورت  ههدم کیایههت منههاب ، \n",
            "اولویتبندی و ترتیب ا طای تسهیالت به موارد مذکور در این بند به ترتیههب شههامل؛ تسهههیالت قرض الحسههنه ازدوا ، \n",
            "تسهیالت قرضالحسنه فرزندآوری، ت سهیالت قرضالحسنه ودیعه یا خرید یا ساخت مسکن به شرح زیر اقدام نماید:  \n",
            " \"جزء (2)  - تسهيالت قرض الحسنه فرزندآوری (موضوع ماده (10  ) :)قانون حمایت از خانواده و جوانی جمعیت \n",
            " برای فرزندانی که از  1/1/1400  به بعد به دنیا آمدهاند با ر ایت شروط مندر  در قانون حمای ت از خانواده و جوانی  \n",
            "جمعیت تسهیالت قرضالحسنه فرزندآوری به شرح زیر پرداخت می شود:  \n",
            "1-2- ( به ازای فرزند اول چهارصد میلیون 400.000.000 )ریال\n",
            "========================================\n",
            "مبلغ سه میلیارد ( 3,000,000,000  ) ریال و با دوره بازپرداخت ده ساله \n",
            "2-1-    تسهیالت قرض الحسنه ازدوا  برای زوجهای زیر بیست و پنج سال و زوجه های زیر بیست و سه سال مبلغ\n",
            "سه میلیارد و پانصد میلیون ( 3,500,000,000 ) ریال \n",
            "جزء(6)-  مسؤولیت حسن اجرای این بند بر  هده بانک مرکزی جمهوری اسالمی ایران، مؤسسات ا تباری و تمامی   \n",
            "مدیران و کارکنان ذیربط میباشد.  دم اجرای هریک از بندهای این تبصره (مشتمل بر تأخیر در پرداخت این   \n",
            "تسهیالت یا دریافت ضمانت فراتر از حدود این قانون) تالف محسوب شده  و در مراج  ذیصالح قابل  پیگیری است.  \n",
            "جزء(8  )-پس از ا تبارسنجی متقاضیان  و در صورت  دم تکافوی ا تبار آنها، به منمور تأمین رکههن ضههامن، مؤسسههات \n",
            "ا تباری موظیند با توثیق حساب یارانه یا سهام  دالت متقاضیان یهها بسههتگان درجههه اول از طبقههه اول آنههها یهها سههایر \n",
            "داراییهای مالی وی یا تنها دریافت یک ف  قره سیته و یک نیر ضامن نسبت به پرداخت تسهیالت اقدام نمایند. \n",
            " ۷40/03 \n",
            " 06/01/1403 \n",
            "  دارد\n",
            "========================================\n"
          ]
        }
      ]
    },
    {
      "cell_type": "markdown",
      "source": [
        "## **ParentDocumentRetriever**"
      ],
      "metadata": {
        "id": "lx0WwF8Ahwgm"
      }
    },
    {
      "cell_type": "code",
      "source": [
        "embeddings = OpenAIEmbeddings()\n",
        "vector_store = FAISS.from_texts(chunks, embeddings)"
      ],
      "metadata": {
        "id": "KxwXkxs7h27X"
      },
      "execution_count": null,
      "outputs": []
    },
    {
      "cell_type": "code",
      "source": [
        "retriever = vector_store.as_retriever()\n",
        "\n",
        "vector_store.save_local(\"faiss_index\")\n"
      ],
      "metadata": {
        "id": "Ln6cl-GPh62Q"
      },
      "execution_count": null,
      "outputs": []
    },
    {
      "cell_type": "code",
      "source": [
        "embeddings = OpenAIEmbeddings()\n",
        "vector_store = FAISS.load_local(\"faiss_index\", embeddings, allow_dangerous_deserialization=True)\n",
        "\n",
        "retriever = vector_store.as_retriever()\n",
        "\n",
        "query = \"تسهیلات فرزندآوری چیست؟\"\n",
        "results = retriever.get_relevant_documents(query)\n",
        "\n",
        "for i, r in enumerate(results, 1):\n",
        "    print(f\"--- جواب شماره {i} ---\")\n",
        "    print(r.page_content)\n",
        "    print(\"\\n\" + \"=\"*40 + \"\\n\")\n"
      ],
      "metadata": {
        "colab": {
          "base_uri": "https://localhost:8080/"
        },
        "id": "n_ccsIsNiGvr",
        "outputId": "2e06e71c-ebd8-4d03-df5d-2b776795b513"
      },
      "execution_count": null,
      "outputs": [
        {
          "output_type": "stream",
          "name": "stdout",
          "text": [
            "--- جواب شماره 1 ---\n",
            "1- تسهيالت وديعه: لزوم ارائه قرارداد اجار  با درج که رهگ يری در آن. \n",
            "2-  تسهيالت  خريه:  لزوم ارائه مبايعهنامه  با درج که رهگيری  در آن و اعطاء تسهيالت  همزمان با انتقال سنه رسم  ملک به \n",
            "نام تسهيالتگيرنه .  \n",
            "3-  تسهيالت ساخت: لزوم ارائه پروانه ساخت معتبر و ارائه اسن اد مبين مالکيت در مداردی که تسهيالتگيرنه ، خدد، مالاک  \n",
            "عرصه است و ارائه قرارداد مش ارکت در سااخت در ماداردی کاه تساهيالتگيرنه ، مالاک عرصاه نم  باشاه و در صادرت \n",
            "اعتبارسنج   متقاض  و تکميل مهارک و اخذ مهارک متناسب از وی کل مبلغ تسهيالت در يک مرحله به متقاض  پرداخات \n",
            "خداهه شه. \n",
            "تبصره:  به منظدر جلدگيری از دريافت مجهد تسهيالت مدضدع ايان بناه از قااندن تدسا ط متقاضايان از سااير بانکهاا و \n",
            "مؤسسات اعتباری ، ضروری است در مقطع انعقاد قرارداد و   قبل از پرداخت تساهيالت عاالو  بار اساتعالمهای  اخاذ شاه  \n",
            "براساس ماد   (5   ) که در زمان ارائه درخداست وتشکيل پرونه  اخذ م  شدد و صرف نظر از دارای اعتبار بددن آن ، اساتعالم \n",
            "مجهد از سامانه سمات به منظدر کنترل سدابق متقاض  و احراز عهم استفاد  از تسهيالت قبل  (بررس  تسهيالت مساکن و\n",
            "\n",
            "========================================\n",
            "\n",
            "--- جواب شماره 2 ---\n",
            "به نام تسهيالتگيرنده.  \n",
            "3-  تسهیالت  ساخت:  لزوم  ارائه  پروانه  ساخت معتبر و ارائه اسناد مبين مالکيت در مواردی که تسهيالتگيرنده،  خود، مالک \n",
            "عرصه  است  و  ارائه  قرارداد  مشارکت در ساخت در مواردی که تسهيالتگيرنده،  مالک عرصه نميباشهد و در صهورت اعتبهار \n",
            "سنجي  متقاضي  و  تکميل  مدارک  و اخذ  مدارک  متناسب  از  وی کل  مبلغ  تسهيالت در يک مرحله به متقاضي پرداخت خواهد \n",
            "شد. \n",
            "      تبصره  :  به  منظور  جلوگيری  از  دريافت  مجدد  تسهيالت  موضوع  اين  بند  از  قانون توسط متقاضهيان  از سهاير بانکهها و \n",
            "مؤسسات   اعتباری  ،  ضروری  است  در  مقطع  انعقاد  قرارداد  و  قبل  از  پرداخت  تسههيالت  عهالوه  بهر  اسهتعالمهای  اخهذ  شهده \n",
            "براساس  ماده  (5)  که  در  زمان  ارائه  درخواست  و  تشکيل  پرونده  اخذ  مي شود و صرف نظر از دارای اعتبار بودن آن، اسهتعالم \n",
            "مجدد  از  سامانه سمات به منظور کنترل سوابق متقاضي و احراز عدم استفاده از تسهيالت قبلي (بررسي  تسهيالت مسهکن و \n",
            "تسهيالت جعاله فعال متقاضيان) در چارچوب موضوع اين بند قانوني صورت پذيرد. \n",
            " \n",
            "3\n",
            "\n",
            "========================================\n",
            "\n",
            "--- جواب شماره 3 ---\n",
            "دولت (2  ) و ستاد مردمی رسیدگی به امور دیه و کمک به زندانیان نیازمند، از محل سههدرده های قرضالحسههنه ا ههش از  \n",
            "جاری و پسانداز شبکه بانکی پس از کسر سدرده قههانونی حههداقل   2  میلیههون میلیههارد ریههال بههه قرض الحسههنه ازدوا ، \n",
            "فرزندآوری و ودیعه یا خرید یا ساخت مسکن و دیگر موارد ذکرشده در قوانین فوق اخت صاص داده و از طریق بانکهههای \n",
            " امل (به تشایص هیئت  الی بانک مرکزی جمهوری اسالمی ایران) پرداخت گردد و در صورت  ههدم کیایههت منههاب ، \n",
            "اولویتبندی و ترتیب ا طای تسهیالت به موارد مذکور در این بند به ترتیههب شههامل؛ تسهههیالت قرض الحسههنه ازدوا ، \n",
            "تسهیالت قرضالحسنه فرزندآوری، ت سهیالت قرضالحسنه ودیعه یا خرید یا ساخت مسکن به شرح زیر اقدام نماید:  \n",
            " \"جزء (2)  - تسهيالت قرض الحسنه فرزندآوری (موضوع ماده (10  ) :)قانون حمایت از خانواده و جوانی جمعیت \n",
            " برای فرزندانی که از  1/1/1400  به بعد به دنیا آمدهاند با ر ایت شروط مندر  در قانون حمای ت از خانواده و جوانی  \n",
            "جمعیت تسهیالت قرضالحسنه فرزندآوری به شرح زیر پرداخت می شود:  \n",
            "1-2- ( به ازای فرزند اول چهارصد میلیون 400.000.000 )ریال\n",
            "\n",
            "========================================\n",
            "\n",
            "--- جواب شماره 4 ---\n",
            "حمایت از خانواده و جوانی جمعیت، تعيين م  گردنه.    \n",
            "۱-4-    :فاقدین مسکنافراد سرپرست خانداری  که خدد و افراد تحت تکفل آنان در زمان اخذ تسهيالت، فاقه زمين مسکدن  \n",
            "يا واحه مسکدن  بدد  و استعالم آنها از سامانه متمرکز اطالعات تسه يالت و تعههات بانکها (سمات) و طرحهای جامع حماايت   \n",
            "مسکن وزارت را  و شهرسازی ( Temgt  ) فاقه تسهيالت فعال بخش مسکن و سابقه مالکيت مباشه. \n",
            "5-۱-تسهیالت:   \n",
            "     ۱-5-۱-   تسهيالت قرض الحسنه وديعه يا خريه يا ساخت مسکن (بنا به درخداست خاندار)  با  بازپرداخت حهاکثر   10  ساله  \n",
            "برای خانداد  های فاقه مسکن   از محل منابع سپرد  های پس انهاز و جاری قرض الحسنه نظام بانک    به شرح ذيل قابل پرداخت \n",
            "م  باشه:   \n",
            "خانداد  هاي   که از سال  1399  به بعهصاحب دو  فرزنه ،  يک فرزنه  و  خانداد  های دو نفر  (زوج و زوجه) که تاريخ وقدع عق هشان از  \n",
            "سال 1399 به بعهم   باشه.\n",
            "\n",
            "========================================\n",
            "\n"
          ]
        }
      ]
    },
    {
      "cell_type": "markdown",
      "source": [
        "# **Part 3: Creating Chain**"
      ],
      "metadata": {
        "id": "v6NPjbMeX0Wm"
      }
    },
    {
      "cell_type": "code",
      "source": [
        "os.environ[\"OPENAI_API_KEY\"] = input(\" Enter your OpenAI API key: \")\n",
        "embeddings = OpenAIEmbeddings(openai_api_key=os.environ[\"OPENAI_API_KEY\"])\n",
        "db = FAISS.from_texts(chunks, embeddings)"
      ],
      "metadata": {
        "id": "rv2-Q8F18krX"
      },
      "execution_count": null,
      "outputs": []
    },
    {
      "cell_type": "code",
      "source": [
        "from operator import itemgetter\n",
        "from langchain_core.runnables import RunnableParallel, RunnablePassthrough\n",
        "from langchain.prompts import PromptTemplate\n",
        "from langchain_openai import ChatOpenAI\n",
        "from langchain_core.output_parsers import StrOutputParser\n",
        "\n",
        "\n",
        "retriever = db.as_retriever(search_kwargs={\"k\": 3})\n",
        "\n",
        "prompt_template = \"\"\"\n",
        "پاسخ سوال زیر را با استفاده از متن داده شده بده:\n",
        "\n",
        "متن:\n",
        "{context}\n",
        "\n",
        "سوال:\n",
        "{question}\n",
        "\n",
        "پاسخ:\n",
        "\"\"\"\n",
        "prompt = PromptTemplate(template=prompt_template, input_variables=[\"context\", \"question\"])\n",
        "\n",
        "llm = ChatOpenAI(model=\"gpt-4o\", temperature=0)\n",
        "\n",
        "rag = RunnableParallel({\n",
        "    \"context\": itemgetter(\"question\") | retriever,\n",
        "    \"question\": RunnablePassthrough()\n",
        "})\n",
        "\n",
        "chain = rag | prompt | llm | StrOutputParser()\n",
        "\n",
        "question = \"تسهیلات ازدواج چیست؟\"\n",
        "result = chain.invoke({\"question\": question})\n",
        "\n",
        "print(\"پاسخ:\", result)\n"
      ],
      "metadata": {
        "colab": {
          "base_uri": "https://localhost:8080/"
        },
        "id": "-Dxgn7NcjIS2",
        "outputId": "f877caed-0068-4e61-f024-3c9c23e5d02b"
      },
      "execution_count": null,
      "outputs": [
        {
          "output_type": "stream",
          "name": "stdout",
          "text": [
            "پاسخ: متن ارائه شده اطلاعاتی درباره تسهیلات ازدواج ارائه نمی‌دهد. اطلاعات موجود در متن به تسهیلات وام مسکن، وام ساخت و شرایط دریافت آن‌ها اشاره دارد. برای دریافت اطلاعات دقیق درباره تسهیلات ازدواج، نیاز به منبع دیگری دارید که به طور خاص به این موضوع پرداخته باشد.\n"
          ]
        }
      ]
    }
  ]
}